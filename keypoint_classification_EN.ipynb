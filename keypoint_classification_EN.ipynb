{
  "cells": [
    {
      "cell_type": "code",
      "execution_count": 60,
      "metadata": {
        "id": "igMyGnjE9hEp"
      },
      "outputs": [],
      "source": [
        "import csv\n",
        "\n",
        "import numpy as np\n",
        "import tensorflow as tf\n",
        "from sklearn.model_selection import train_test_split\n",
        "\n",
        "RANDOM_SEED = 42"
      ]
    },
    {
      "cell_type": "markdown",
      "metadata": {
        "id": "t2HDvhIu9hEr"
      },
      "source": [
        "# Specify each path"
      ]
    },
    {
      "cell_type": "code",
      "execution_count": 61,
      "metadata": {
        "id": "9NvZP2Zn9hEy"
      },
      "outputs": [],
      "source": [
        "dataset = 'model/keypoint_classifier/keypoint.csv'\n",
        "model_save_path = 'model/keypoint_classifier/keypoint_classifier.hdf5'\n",
        "tflite_save_path = 'model/keypoint_classifier/keypoint_classifier.tflite'"
      ]
    },
    {
      "cell_type": "markdown",
      "metadata": {
        "id": "s5oMH7x19hEz"
      },
      "source": [
        "# Set number of classes"
      ]
    },
    {
      "cell_type": "code",
      "execution_count": 62,
      "metadata": {
        "id": "du4kodXL9hEz"
      },
      "outputs": [],
      "source": [
        "NUM_CLASSES = 5"
      ]
    },
    {
      "cell_type": "markdown",
      "metadata": {
        "id": "XjnL0uso9hEz"
      },
      "source": [
        "# Dataset reading"
      ]
    },
    {
      "cell_type": "code",
      "execution_count": 63,
      "metadata": {
        "id": "QT5ZqtEz9hE0"
      },
      "outputs": [],
      "source": [
        "X_dataset = np.loadtxt(dataset, delimiter=',', dtype='float32', usecols=list(range(1, (21 * 2) + 1)))"
      ]
    },
    {
      "cell_type": "code",
      "execution_count": 64,
      "metadata": {
        "id": "QmoKFsp49hE0"
      },
      "outputs": [],
      "source": [
        "y_dataset = np.loadtxt(dataset, delimiter=',', dtype='int32', usecols=(0))"
      ]
    },
    {
      "cell_type": "code",
      "execution_count": 66,
      "metadata": {
        "id": "xQU7JTZ_9hE0"
      },
      "outputs": [],
      "source": [
        "X_train, X_test, y_train, y_test = train_test_split(X_dataset, y_dataset, train_size=0.75, random_state=RANDOM_SEED)"
      ]
    },
    {
      "cell_type": "markdown",
      "metadata": {
        "id": "mxK_lETT9hE0"
      },
      "source": [
        "# Model building"
      ]
    },
    {
      "cell_type": "code",
      "execution_count": 67,
      "metadata": {
        "id": "vHBmUf1t9hE1"
      },
      "outputs": [],
      "source": [
        "model = tf.keras.models.Sequential([\n",
        "    tf.keras.layers.Input((21 * 2, )),\n",
        "    tf.keras.layers.Dropout(0.2),\n",
        "    tf.keras.layers.Dense(20, activation='relu'),\n",
        "    tf.keras.layers.Dropout(0.4),\n",
        "    tf.keras.layers.Dense(10, activation='relu'),\n",
        "    tf.keras.layers.Dense(NUM_CLASSES, activation='softmax')\n",
        "])"
      ]
    },
    {
      "cell_type": "code",
      "execution_count": 68,
      "metadata": {
        "colab": {
          "base_uri": "https://localhost:8080/"
        },
        "id": "ypqky9tc9hE1",
        "outputId": "5db082bb-30e3-4110-bf63-a1ee777ecd46"
      },
      "outputs": [
        {
          "name": "stdout",
          "output_type": "stream",
          "text": [
            "Model: \"sequential_3\"\n",
            "_________________________________________________________________\n",
            " Layer (type)                Output Shape              Param #   \n",
            "=================================================================\n",
            " dropout_6 (Dropout)         (None, 42)                0         \n",
            "                                                                 \n",
            " dense_9 (Dense)             (None, 20)                860       \n",
            "                                                                 \n",
            " dropout_7 (Dropout)         (None, 20)                0         \n",
            "                                                                 \n",
            " dense_10 (Dense)            (None, 10)                210       \n",
            "                                                                 \n",
            " dense_11 (Dense)            (None, 5)                 55        \n",
            "                                                                 \n",
            "=================================================================\n",
            "Total params: 1125 (4.39 KB)\n",
            "Trainable params: 1125 (4.39 KB)\n",
            "Non-trainable params: 0 (0.00 Byte)\n",
            "_________________________________________________________________\n"
          ]
        }
      ],
      "source": [
        "model.summary()  # tf.keras.utils.plot_model(model, show_shapes=True)"
      ]
    },
    {
      "cell_type": "code",
      "execution_count": 69,
      "metadata": {
        "id": "MbMjOflQ9hE1"
      },
      "outputs": [],
      "source": [
        "# Model checkpoint callback\n",
        "cp_callback = tf.keras.callbacks.ModelCheckpoint(\n",
        "    model_save_path, verbose=1, save_weights_only=False)\n",
        "# Callback for early stopping\n",
        "es_callback = tf.keras.callbacks.EarlyStopping(patience=20, verbose=1)"
      ]
    },
    {
      "cell_type": "code",
      "execution_count": 70,
      "metadata": {
        "id": "c3Dac0M_9hE2"
      },
      "outputs": [],
      "source": [
        "# Model compilation\n",
        "model.compile(\n",
        "    optimizer='adam',\n",
        "    loss='sparse_categorical_crossentropy',\n",
        "    metrics=['accuracy']\n",
        ")"
      ]
    },
    {
      "cell_type": "markdown",
      "metadata": {
        "id": "7XI0j1Iu9hE2"
      },
      "source": [
        "# Model training"
      ]
    },
    {
      "cell_type": "code",
      "execution_count": 71,
      "metadata": {
        "colab": {
          "base_uri": "https://localhost:8080/"
        },
        "id": "WirBl-JE9hE3",
        "outputId": "71b30ca2-8294-4d9d-8aa2-800d90d399de",
        "scrolled": true
      },
      "outputs": [
        {
          "name": "stdout",
          "output_type": "stream",
          "text": [
            "Epoch 1/1000\n",
            " 1/30 [>.............................] - ETA: 11s - loss: 1.6096 - accuracy: 0.3281\n",
            "Epoch 1: saving model to model/keypoint_classifier\\keypoint_classifier.hdf5\n",
            "30/30 [==============================] - 1s 6ms/step - loss: 1.5538 - accuracy: 0.3060 - val_loss: 1.4538 - val_accuracy: 0.3939\n",
            "Epoch 2/1000\n",
            " 1/30 [>.............................] - ETA: 0s - loss: 1.4757 - accuracy: 0.3906\n",
            "Epoch 2: saving model to model/keypoint_classifier\\keypoint_classifier.hdf5\n",
            "30/30 [==============================] - 0s 3ms/step - loss: 1.4434 - accuracy: 0.3498 - val_loss: 1.3427 - val_accuracy: 0.4537\n",
            "Epoch 3/1000\n",
            " 1/30 [>.............................] - ETA: 0s - loss: 1.3903 - accuracy: 0.3672\n",
            "Epoch 3: saving model to model/keypoint_classifier\\keypoint_classifier.hdf5\n"
          ]
        },
        {
          "name": "stderr",
          "output_type": "stream",
          "text": [
            "c:\\Users\\Admin\\Desktop\\clone\\hand-gesture-recognition-mediapipe\\env\\lib\\site-packages\\keras\\src\\engine\\training.py:3000: UserWarning: You are saving your model as an HDF5 file via `model.save()`. This file format is considered legacy. We recommend using instead the native Keras format, e.g. `model.save('my_model.keras')`.\n",
            "  saving_api.save_model(\n"
          ]
        },
        {
          "name": "stdout",
          "output_type": "stream",
          "text": [
            "30/30 [==============================] - 0s 3ms/step - loss: 1.3682 - accuracy: 0.3682 - val_loss: 1.2467 - val_accuracy: 0.5104\n",
            "Epoch 4/1000\n",
            " 1/30 [>.............................] - ETA: 0s - loss: 1.3530 - accuracy: 0.3438\n",
            "Epoch 4: saving model to model/keypoint_classifier\\keypoint_classifier.hdf5\n",
            "30/30 [==============================] - 0s 3ms/step - loss: 1.3035 - accuracy: 0.4014 - val_loss: 1.1658 - val_accuracy: 0.5383\n",
            "Epoch 5/1000\n",
            " 1/30 [>.............................] - ETA: 0s - loss: 1.2961 - accuracy: 0.3672\n",
            "Epoch 5: saving model to model/keypoint_classifier\\keypoint_classifier.hdf5\n",
            "30/30 [==============================] - 0s 4ms/step - loss: 1.2378 - accuracy: 0.4367 - val_loss: 1.0985 - val_accuracy: 0.5670\n",
            "Epoch 6/1000\n",
            " 1/30 [>.............................] - ETA: 0s - loss: 1.1961 - accuracy: 0.4922\n",
            "Epoch 6: saving model to model/keypoint_classifier\\keypoint_classifier.hdf5\n",
            "30/30 [==============================] - 0s 3ms/step - loss: 1.1861 - accuracy: 0.4769 - val_loss: 1.0340 - val_accuracy: 0.6244\n",
            "Epoch 7/1000\n",
            " 1/30 [>.............................] - ETA: 0s - loss: 1.1960 - accuracy: 0.4688\n",
            "Epoch 7: saving model to model/keypoint_classifier\\keypoint_classifier.hdf5\n",
            "30/30 [==============================] - 0s 3ms/step - loss: 1.1428 - accuracy: 0.4854 - val_loss: 0.9797 - val_accuracy: 0.6691\n",
            "Epoch 8/1000\n",
            " 1/30 [>.............................] - ETA: 0s - loss: 1.1274 - accuracy: 0.5078\n",
            "Epoch 8: saving model to model/keypoint_classifier\\keypoint_classifier.hdf5\n",
            "30/30 [==============================] - 0s 3ms/step - loss: 1.0963 - accuracy: 0.5242 - val_loss: 0.9161 - val_accuracy: 0.6866\n",
            "Epoch 9/1000\n",
            " 1/30 [>.............................] - ETA: 0s - loss: 1.1173 - accuracy: 0.4922\n",
            "Epoch 9: saving model to model/keypoint_classifier\\keypoint_classifier.hdf5\n",
            "30/30 [==============================] - 0s 3ms/step - loss: 1.0652 - accuracy: 0.5295 - val_loss: 0.8715 - val_accuracy: 0.7026\n",
            "Epoch 10/1000\n",
            "26/30 [=========================>....] - ETA: 0s - loss: 1.0315 - accuracy: 0.5493\n",
            "Epoch 10: saving model to model/keypoint_classifier\\keypoint_classifier.hdf5\n",
            "30/30 [==============================] - 0s 4ms/step - loss: 1.0313 - accuracy: 0.5518 - val_loss: 0.8244 - val_accuracy: 0.7169\n",
            "Epoch 11/1000\n",
            " 1/30 [>.............................] - ETA: 0s - loss: 0.9089 - accuracy: 0.6797\n",
            "Epoch 11: saving model to model/keypoint_classifier\\keypoint_classifier.hdf5\n",
            "30/30 [==============================] - 0s 3ms/step - loss: 1.0167 - accuracy: 0.5455 - val_loss: 0.7873 - val_accuracy: 0.7209\n",
            "Epoch 12/1000\n",
            " 1/30 [>.............................] - ETA: 0s - loss: 1.0613 - accuracy: 0.5391\n",
            "Epoch 12: saving model to model/keypoint_classifier\\keypoint_classifier.hdf5\n",
            "30/30 [==============================] - 0s 3ms/step - loss: 0.9896 - accuracy: 0.5601 - val_loss: 0.7528 - val_accuracy: 0.7265\n",
            "Epoch 13/1000\n",
            " 1/30 [>.............................] - ETA: 0s - loss: 1.0427 - accuracy: 0.5234\n",
            "Epoch 13: saving model to model/keypoint_classifier\\keypoint_classifier.hdf5\n",
            "30/30 [==============================] - 0s 3ms/step - loss: 0.9462 - accuracy: 0.5984 - val_loss: 0.7219 - val_accuracy: 0.7927\n",
            "Epoch 14/1000\n",
            "30/30 [==============================] - ETA: 0s - loss: 0.9355 - accuracy: 0.6053\n",
            "Epoch 14: saving model to model/keypoint_classifier\\keypoint_classifier.hdf5\n",
            "30/30 [==============================] - 0s 4ms/step - loss: 0.9355 - accuracy: 0.6053 - val_loss: 0.6920 - val_accuracy: 0.7935\n",
            "Epoch 15/1000\n",
            "28/30 [===========================>..] - ETA: 0s - loss: 0.9125 - accuracy: 0.6177\n",
            "Epoch 15: saving model to model/keypoint_classifier\\keypoint_classifier.hdf5\n",
            "30/30 [==============================] - 0s 4ms/step - loss: 0.9100 - accuracy: 0.6191 - val_loss: 0.6601 - val_accuracy: 0.8046\n",
            "Epoch 16/1000\n",
            " 1/30 [>.............................] - ETA: 0s - loss: 0.9057 - accuracy: 0.5859\n",
            "Epoch 16: saving model to model/keypoint_classifier\\keypoint_classifier.hdf5\n",
            "30/30 [==============================] - 0s 3ms/step - loss: 0.8881 - accuracy: 0.6228 - val_loss: 0.6372 - val_accuracy: 0.8070\n",
            "Epoch 17/1000\n",
            " 1/30 [>.............................] - ETA: 0s - loss: 0.7898 - accuracy: 0.6641\n",
            "Epoch 17: saving model to model/keypoint_classifier\\keypoint_classifier.hdf5\n",
            "30/30 [==============================] - 0s 3ms/step - loss: 0.8738 - accuracy: 0.6361 - val_loss: 0.6098 - val_accuracy: 0.8254\n",
            "Epoch 18/1000\n",
            " 1/30 [>.............................] - ETA: 0s - loss: 0.9029 - accuracy: 0.6094\n",
            "Epoch 18: saving model to model/keypoint_classifier\\keypoint_classifier.hdf5\n",
            "30/30 [==============================] - 0s 3ms/step - loss: 0.8511 - accuracy: 0.6451 - val_loss: 0.5903 - val_accuracy: 0.8381\n",
            "Epoch 19/1000\n",
            " 1/30 [>.............................] - ETA: 0s - loss: 0.8931 - accuracy: 0.6406\n",
            "Epoch 19: saving model to model/keypoint_classifier\\keypoint_classifier.hdf5\n",
            "30/30 [==============================] - 0s 3ms/step - loss: 0.8423 - accuracy: 0.6539 - val_loss: 0.5744 - val_accuracy: 0.8445\n",
            "Epoch 20/1000\n",
            " 1/30 [>.............................] - ETA: 0s - loss: 0.8990 - accuracy: 0.6406\n",
            "Epoch 20: saving model to model/keypoint_classifier\\keypoint_classifier.hdf5\n",
            "30/30 [==============================] - 0s 3ms/step - loss: 0.8234 - accuracy: 0.6582 - val_loss: 0.5484 - val_accuracy: 0.8517\n",
            "Epoch 21/1000\n",
            " 1/30 [>.............................] - ETA: 0s - loss: 0.8376 - accuracy: 0.6250\n",
            "Epoch 21: saving model to model/keypoint_classifier\\keypoint_classifier.hdf5\n",
            "30/30 [==============================] - 0s 3ms/step - loss: 0.8169 - accuracy: 0.6667 - val_loss: 0.5340 - val_accuracy: 0.8700\n",
            "Epoch 22/1000\n",
            " 1/30 [>.............................] - ETA: 0s - loss: 0.7925 - accuracy: 0.7031\n",
            "Epoch 22: saving model to model/keypoint_classifier\\keypoint_classifier.hdf5\n",
            "30/30 [==============================] - 0s 3ms/step - loss: 0.8163 - accuracy: 0.6603 - val_loss: 0.5201 - val_accuracy: 0.8716\n",
            "Epoch 23/1000\n",
            " 1/30 [>.............................] - ETA: 0s - loss: 0.9032 - accuracy: 0.6094\n",
            "Epoch 23: saving model to model/keypoint_classifier\\keypoint_classifier.hdf5\n",
            "30/30 [==============================] - 0s 3ms/step - loss: 0.8102 - accuracy: 0.6576 - val_loss: 0.5094 - val_accuracy: 0.8716\n",
            "Epoch 24/1000\n",
            " 1/30 [>.............................] - ETA: 0s - loss: 0.7554 - accuracy: 0.6641\n",
            "Epoch 24: saving model to model/keypoint_classifier\\keypoint_classifier.hdf5\n",
            "30/30 [==============================] - 0s 3ms/step - loss: 0.7663 - accuracy: 0.6874 - val_loss: 0.4929 - val_accuracy: 0.8955\n",
            "Epoch 25/1000\n",
            " 1/30 [>.............................] - ETA: 0s - loss: 0.7736 - accuracy: 0.6797\n",
            "Epoch 25: saving model to model/keypoint_classifier\\keypoint_classifier.hdf5\n",
            "30/30 [==============================] - 0s 3ms/step - loss: 0.7658 - accuracy: 0.6879 - val_loss: 0.4827 - val_accuracy: 0.9099\n",
            "Epoch 26/1000\n",
            " 1/30 [>.............................] - ETA: 0s - loss: 0.7324 - accuracy: 0.6719\n",
            "Epoch 26: saving model to model/keypoint_classifier\\keypoint_classifier.hdf5\n",
            "30/30 [==============================] - 0s 3ms/step - loss: 0.7748 - accuracy: 0.6794 - val_loss: 0.4722 - val_accuracy: 0.9099\n",
            "Epoch 27/1000\n",
            " 1/30 [>.............................] - ETA: 0s - loss: 0.8005 - accuracy: 0.6875\n",
            "Epoch 27: saving model to model/keypoint_classifier\\keypoint_classifier.hdf5\n",
            "30/30 [==============================] - 0s 3ms/step - loss: 0.7605 - accuracy: 0.6970 - val_loss: 0.4591 - val_accuracy: 0.9155\n",
            "Epoch 28/1000\n",
            " 1/30 [>.............................] - ETA: 0s - loss: 0.7515 - accuracy: 0.6484\n",
            "Epoch 28: saving model to model/keypoint_classifier\\keypoint_classifier.hdf5\n",
            "30/30 [==============================] - 0s 3ms/step - loss: 0.7321 - accuracy: 0.6914 - val_loss: 0.4485 - val_accuracy: 0.9266\n",
            "Epoch 29/1000\n",
            " 1/30 [>.............................] - ETA: 0s - loss: 0.7294 - accuracy: 0.7188\n",
            "Epoch 29: saving model to model/keypoint_classifier\\keypoint_classifier.hdf5\n",
            "30/30 [==============================] - 0s 3ms/step - loss: 0.7340 - accuracy: 0.7033 - val_loss: 0.4348 - val_accuracy: 0.9219\n",
            "Epoch 30/1000\n",
            " 1/30 [>.............................] - ETA: 0s - loss: 0.6966 - accuracy: 0.6875\n",
            "Epoch 30: saving model to model/keypoint_classifier\\keypoint_classifier.hdf5\n",
            "30/30 [==============================] - 0s 3ms/step - loss: 0.7308 - accuracy: 0.7065 - val_loss: 0.4288 - val_accuracy: 0.9242\n",
            "Epoch 31/1000\n",
            " 1/30 [>.............................] - ETA: 0s - loss: 0.6384 - accuracy: 0.7422\n",
            "Epoch 31: saving model to model/keypoint_classifier\\keypoint_classifier.hdf5\n",
            "30/30 [==============================] - 0s 3ms/step - loss: 0.7040 - accuracy: 0.7177 - val_loss: 0.4136 - val_accuracy: 0.9234\n",
            "Epoch 32/1000\n",
            " 1/30 [>.............................] - ETA: 0s - loss: 0.8328 - accuracy: 0.6406\n",
            "Epoch 32: saving model to model/keypoint_classifier\\keypoint_classifier.hdf5\n",
            "30/30 [==============================] - 0s 3ms/step - loss: 0.7306 - accuracy: 0.7041 - val_loss: 0.4127 - val_accuracy: 0.9282\n",
            "Epoch 33/1000\n",
            " 1/30 [>.............................] - ETA: 0s - loss: 0.7636 - accuracy: 0.6875\n",
            "Epoch 33: saving model to model/keypoint_classifier\\keypoint_classifier.hdf5\n",
            "30/30 [==============================] - 0s 3ms/step - loss: 0.7082 - accuracy: 0.7185 - val_loss: 0.4030 - val_accuracy: 0.9314\n",
            "Epoch 34/1000\n",
            " 1/30 [>.............................] - ETA: 0s - loss: 0.8043 - accuracy: 0.6953\n",
            "Epoch 34: saving model to model/keypoint_classifier\\keypoint_classifier.hdf5\n",
            "30/30 [==============================] - 0s 3ms/step - loss: 0.6990 - accuracy: 0.7209 - val_loss: 0.3956 - val_accuracy: 0.9346\n",
            "Epoch 35/1000\n",
            " 1/30 [>.............................] - ETA: 0s - loss: 0.8399 - accuracy: 0.6406\n",
            "Epoch 35: saving model to model/keypoint_classifier\\keypoint_classifier.hdf5\n",
            "30/30 [==============================] - 0s 3ms/step - loss: 0.6905 - accuracy: 0.7243 - val_loss: 0.3869 - val_accuracy: 0.9410\n",
            "Epoch 36/1000\n",
            " 1/30 [>.............................] - ETA: 0s - loss: 0.6046 - accuracy: 0.7891\n",
            "Epoch 36: saving model to model/keypoint_classifier\\keypoint_classifier.hdf5\n",
            "30/30 [==============================] - 0s 3ms/step - loss: 0.6971 - accuracy: 0.7278 - val_loss: 0.3832 - val_accuracy: 0.9362\n",
            "Epoch 37/1000\n",
            " 1/30 [>.............................] - ETA: 0s - loss: 0.6920 - accuracy: 0.7109\n",
            "Epoch 37: saving model to model/keypoint_classifier\\keypoint_classifier.hdf5\n",
            "30/30 [==============================] - 0s 3ms/step - loss: 0.6866 - accuracy: 0.7265 - val_loss: 0.3733 - val_accuracy: 0.9386\n",
            "Epoch 38/1000\n",
            " 1/30 [>.............................] - ETA: 0s - loss: 0.5902 - accuracy: 0.7109\n",
            "Epoch 38: saving model to model/keypoint_classifier\\keypoint_classifier.hdf5\n",
            "30/30 [==============================] - 0s 3ms/step - loss: 0.6758 - accuracy: 0.7344 - val_loss: 0.3766 - val_accuracy: 0.9346\n",
            "Epoch 39/1000\n",
            " 1/30 [>.............................] - ETA: 0s - loss: 0.7050 - accuracy: 0.6797\n",
            "Epoch 39: saving model to model/keypoint_classifier\\keypoint_classifier.hdf5\n",
            "30/30 [==============================] - 0s 3ms/step - loss: 0.6827 - accuracy: 0.7249 - val_loss: 0.3734 - val_accuracy: 0.9426\n",
            "Epoch 40/1000\n",
            " 1/30 [>.............................] - ETA: 0s - loss: 0.6946 - accuracy: 0.7188\n",
            "Epoch 40: saving model to model/keypoint_classifier\\keypoint_classifier.hdf5\n",
            "30/30 [==============================] - 0s 3ms/step - loss: 0.6696 - accuracy: 0.7376 - val_loss: 0.3585 - val_accuracy: 0.9442\n",
            "Epoch 41/1000\n",
            " 1/30 [>.............................] - ETA: 0s - loss: 0.6366 - accuracy: 0.7734\n",
            "Epoch 41: saving model to model/keypoint_classifier\\keypoint_classifier.hdf5\n",
            "30/30 [==============================] - 0s 3ms/step - loss: 0.6704 - accuracy: 0.7275 - val_loss: 0.3557 - val_accuracy: 0.9418\n",
            "Epoch 42/1000\n",
            "21/30 [====================>.........] - ETA: 0s - loss: 0.6424 - accuracy: 0.7496\n",
            "Epoch 42: saving model to model/keypoint_classifier\\keypoint_classifier.hdf5\n",
            "30/30 [==============================] - 0s 4ms/step - loss: 0.6503 - accuracy: 0.7430 - val_loss: 0.3545 - val_accuracy: 0.9442\n",
            "Epoch 43/1000\n",
            " 1/30 [>.............................] - ETA: 0s - loss: 0.6407 - accuracy: 0.7344\n",
            "Epoch 43: saving model to model/keypoint_classifier\\keypoint_classifier.hdf5\n",
            "30/30 [==============================] - 0s 3ms/step - loss: 0.6501 - accuracy: 0.7427 - val_loss: 0.3448 - val_accuracy: 0.9458\n",
            "Epoch 44/1000\n",
            " 1/30 [>.............................] - ETA: 0s - loss: 0.5275 - accuracy: 0.8047\n",
            "Epoch 44: saving model to model/keypoint_classifier\\keypoint_classifier.hdf5\n",
            "30/30 [==============================] - 0s 3ms/step - loss: 0.6527 - accuracy: 0.7395 - val_loss: 0.3449 - val_accuracy: 0.9466\n",
            "Epoch 45/1000\n",
            " 1/30 [>.............................] - ETA: 0s - loss: 0.5852 - accuracy: 0.7344\n",
            "Epoch 45: saving model to model/keypoint_classifier\\keypoint_classifier.hdf5\n",
            "30/30 [==============================] - 0s 3ms/step - loss: 0.6532 - accuracy: 0.7443 - val_loss: 0.3458 - val_accuracy: 0.9458\n",
            "Epoch 46/1000\n",
            " 1/30 [>.............................] - ETA: 0s - loss: 0.6658 - accuracy: 0.7188\n",
            "Epoch 46: saving model to model/keypoint_classifier\\keypoint_classifier.hdf5\n",
            "30/30 [==============================] - 0s 3ms/step - loss: 0.6729 - accuracy: 0.7347 - val_loss: 0.3444 - val_accuracy: 0.9498\n",
            "Epoch 47/1000\n",
            " 1/30 [>.............................] - ETA: 0s - loss: 0.6796 - accuracy: 0.7266\n",
            "Epoch 47: saving model to model/keypoint_classifier\\keypoint_classifier.hdf5\n",
            "30/30 [==============================] - 0s 3ms/step - loss: 0.6523 - accuracy: 0.7501 - val_loss: 0.3352 - val_accuracy: 0.9482\n",
            "Epoch 48/1000\n",
            " 1/30 [>.............................] - ETA: 0s - loss: 0.6873 - accuracy: 0.7344\n",
            "Epoch 48: saving model to model/keypoint_classifier\\keypoint_classifier.hdf5\n",
            "30/30 [==============================] - 0s 3ms/step - loss: 0.6399 - accuracy: 0.7456 - val_loss: 0.3339 - val_accuracy: 0.9482\n",
            "Epoch 49/1000\n",
            " 1/30 [>.............................] - ETA: 0s - loss: 0.7076 - accuracy: 0.7422\n",
            "Epoch 49: saving model to model/keypoint_classifier\\keypoint_classifier.hdf5\n",
            "30/30 [==============================] - 0s 3ms/step - loss: 0.6282 - accuracy: 0.7430 - val_loss: 0.3230 - val_accuracy: 0.9506\n",
            "Epoch 50/1000\n",
            " 1/30 [>.............................] - ETA: 0s - loss: 0.7706 - accuracy: 0.7344\n",
            "Epoch 50: saving model to model/keypoint_classifier\\keypoint_classifier.hdf5\n",
            "30/30 [==============================] - 0s 3ms/step - loss: 0.6298 - accuracy: 0.7477 - val_loss: 0.3212 - val_accuracy: 0.9442\n",
            "Epoch 51/1000\n",
            " 1/30 [>.............................] - ETA: 0s - loss: 0.6895 - accuracy: 0.7344\n",
            "Epoch 51: saving model to model/keypoint_classifier\\keypoint_classifier.hdf5\n",
            "30/30 [==============================] - 0s 3ms/step - loss: 0.6442 - accuracy: 0.7496 - val_loss: 0.3241 - val_accuracy: 0.9442\n",
            "Epoch 52/1000\n",
            " 1/30 [>.............................] - ETA: 0s - loss: 0.5446 - accuracy: 0.7891\n",
            "Epoch 52: saving model to model/keypoint_classifier\\keypoint_classifier.hdf5\n",
            "30/30 [==============================] - 0s 3ms/step - loss: 0.6248 - accuracy: 0.7578 - val_loss: 0.3150 - val_accuracy: 0.9474\n",
            "Epoch 53/1000\n",
            " 1/30 [>.............................] - ETA: 0s - loss: 0.6584 - accuracy: 0.7109\n",
            "Epoch 53: saving model to model/keypoint_classifier\\keypoint_classifier.hdf5\n",
            "30/30 [==============================] - 0s 3ms/step - loss: 0.6327 - accuracy: 0.7515 - val_loss: 0.3187 - val_accuracy: 0.9490\n",
            "Epoch 54/1000\n",
            " 1/30 [>.............................] - ETA: 0s - loss: 0.6033 - accuracy: 0.8047\n",
            "Epoch 54: saving model to model/keypoint_classifier\\keypoint_classifier.hdf5\n",
            "30/30 [==============================] - 0s 3ms/step - loss: 0.6164 - accuracy: 0.7539 - val_loss: 0.3150 - val_accuracy: 0.9498\n",
            "Epoch 55/1000\n",
            " 1/30 [>.............................] - ETA: 0s - loss: 0.6019 - accuracy: 0.7422\n",
            "Epoch 55: saving model to model/keypoint_classifier\\keypoint_classifier.hdf5\n",
            "30/30 [==============================] - 0s 3ms/step - loss: 0.6238 - accuracy: 0.7605 - val_loss: 0.3184 - val_accuracy: 0.9474\n",
            "Epoch 56/1000\n",
            " 1/30 [>.............................] - ETA: 0s - loss: 0.5230 - accuracy: 0.8359\n",
            "Epoch 56: saving model to model/keypoint_classifier\\keypoint_classifier.hdf5\n",
            "30/30 [==============================] - 0s 3ms/step - loss: 0.6051 - accuracy: 0.7597 - val_loss: 0.3080 - val_accuracy: 0.9490\n",
            "Epoch 57/1000\n",
            " 1/30 [>.............................] - ETA: 0s - loss: 0.6280 - accuracy: 0.7734\n",
            "Epoch 57: saving model to model/keypoint_classifier\\keypoint_classifier.hdf5\n",
            "30/30 [==============================] - 0s 3ms/step - loss: 0.6151 - accuracy: 0.7621 - val_loss: 0.3106 - val_accuracy: 0.9506\n",
            "Epoch 58/1000\n",
            " 1/30 [>.............................] - ETA: 0s - loss: 0.4825 - accuracy: 0.8281\n",
            "Epoch 58: saving model to model/keypoint_classifier\\keypoint_classifier.hdf5\n",
            "30/30 [==============================] - 0s 3ms/step - loss: 0.6137 - accuracy: 0.7592 - val_loss: 0.2999 - val_accuracy: 0.9545\n",
            "Epoch 59/1000\n",
            " 1/30 [>.............................] - ETA: 0s - loss: 0.6499 - accuracy: 0.7656\n",
            "Epoch 59: saving model to model/keypoint_classifier\\keypoint_classifier.hdf5\n",
            "30/30 [==============================] - 0s 3ms/step - loss: 0.6241 - accuracy: 0.7642 - val_loss: 0.3058 - val_accuracy: 0.9498\n",
            "Epoch 60/1000\n",
            " 1/30 [>.............................] - ETA: 0s - loss: 0.6738 - accuracy: 0.7188\n",
            "Epoch 60: saving model to model/keypoint_classifier\\keypoint_classifier.hdf5\n",
            "30/30 [==============================] - 0s 3ms/step - loss: 0.6246 - accuracy: 0.7568 - val_loss: 0.2978 - val_accuracy: 0.9514\n",
            "Epoch 61/1000\n",
            " 1/30 [>.............................] - ETA: 0s - loss: 0.6845 - accuracy: 0.6875\n",
            "Epoch 61: saving model to model/keypoint_classifier\\keypoint_classifier.hdf5\n",
            "30/30 [==============================] - 0s 3ms/step - loss: 0.6016 - accuracy: 0.7677 - val_loss: 0.2988 - val_accuracy: 0.9506\n",
            "Epoch 62/1000\n",
            " 1/30 [>.............................] - ETA: 0s - loss: 0.6496 - accuracy: 0.7422\n",
            "Epoch 62: saving model to model/keypoint_classifier\\keypoint_classifier.hdf5\n",
            "30/30 [==============================] - 0s 3ms/step - loss: 0.6019 - accuracy: 0.7674 - val_loss: 0.2987 - val_accuracy: 0.9514\n",
            "Epoch 63/1000\n",
            " 1/30 [>.............................] - ETA: 0s - loss: 0.5479 - accuracy: 0.7500\n",
            "Epoch 63: saving model to model/keypoint_classifier\\keypoint_classifier.hdf5\n",
            "30/30 [==============================] - 0s 3ms/step - loss: 0.6125 - accuracy: 0.7624 - val_loss: 0.2982 - val_accuracy: 0.9530\n",
            "Epoch 64/1000\n",
            " 1/30 [>.............................] - ETA: 0s - loss: 0.6757 - accuracy: 0.7109\n",
            "Epoch 64: saving model to model/keypoint_classifier\\keypoint_classifier.hdf5\n",
            "30/30 [==============================] - 0s 3ms/step - loss: 0.6081 - accuracy: 0.7656 - val_loss: 0.2907 - val_accuracy: 0.9553\n",
            "Epoch 65/1000\n",
            " 1/30 [>.............................] - ETA: 0s - loss: 0.5658 - accuracy: 0.7656\n",
            "Epoch 65: saving model to model/keypoint_classifier\\keypoint_classifier.hdf5\n",
            "30/30 [==============================] - 0s 3ms/step - loss: 0.5917 - accuracy: 0.7669 - val_loss: 0.2897 - val_accuracy: 0.9506\n",
            "Epoch 66/1000\n",
            " 1/30 [>.............................] - ETA: 0s - loss: 0.6442 - accuracy: 0.7812\n",
            "Epoch 66: saving model to model/keypoint_classifier\\keypoint_classifier.hdf5\n",
            "30/30 [==============================] - 0s 3ms/step - loss: 0.6067 - accuracy: 0.7581 - val_loss: 0.2963 - val_accuracy: 0.9466\n",
            "Epoch 67/1000\n",
            " 1/30 [>.............................] - ETA: 0s - loss: 0.6198 - accuracy: 0.7344\n",
            "Epoch 67: saving model to model/keypoint_classifier\\keypoint_classifier.hdf5\n",
            "30/30 [==============================] - 0s 3ms/step - loss: 0.5922 - accuracy: 0.7735 - val_loss: 0.2920 - val_accuracy: 0.9514\n",
            "Epoch 68/1000\n",
            " 1/30 [>.............................] - ETA: 0s - loss: 0.5350 - accuracy: 0.8438\n",
            "Epoch 68: saving model to model/keypoint_classifier\\keypoint_classifier.hdf5\n",
            "30/30 [==============================] - 0s 3ms/step - loss: 0.6083 - accuracy: 0.7703 - val_loss: 0.2938 - val_accuracy: 0.9522\n",
            "Epoch 69/1000\n",
            " 1/30 [>.............................] - ETA: 0s - loss: 0.5833 - accuracy: 0.7656\n",
            "Epoch 69: saving model to model/keypoint_classifier\\keypoint_classifier.hdf5\n",
            "30/30 [==============================] - 0s 3ms/step - loss: 0.6139 - accuracy: 0.7621 - val_loss: 0.2972 - val_accuracy: 0.9522\n",
            "Epoch 70/1000\n",
            " 1/30 [>.............................] - ETA: 0s - loss: 0.5790 - accuracy: 0.7734\n",
            "Epoch 70: saving model to model/keypoint_classifier\\keypoint_classifier.hdf5\n",
            "30/30 [==============================] - 0s 3ms/step - loss: 0.6074 - accuracy: 0.7613 - val_loss: 0.2878 - val_accuracy: 0.9530\n",
            "Epoch 71/1000\n",
            " 1/30 [>.............................] - ETA: 0s - loss: 0.4698 - accuracy: 0.8438\n",
            "Epoch 71: saving model to model/keypoint_classifier\\keypoint_classifier.hdf5\n",
            "30/30 [==============================] - 0s 3ms/step - loss: 0.5899 - accuracy: 0.7741 - val_loss: 0.2906 - val_accuracy: 0.9498\n",
            "Epoch 72/1000\n",
            " 1/30 [>.............................] - ETA: 0s - loss: 0.4677 - accuracy: 0.7969\n",
            "Epoch 72: saving model to model/keypoint_classifier\\keypoint_classifier.hdf5\n",
            "30/30 [==============================] - 0s 3ms/step - loss: 0.5943 - accuracy: 0.7751 - val_loss: 0.2888 - val_accuracy: 0.9522\n",
            "Epoch 73/1000\n",
            " 1/30 [>.............................] - ETA: 0s - loss: 0.6274 - accuracy: 0.7500\n",
            "Epoch 73: saving model to model/keypoint_classifier\\keypoint_classifier.hdf5\n",
            "30/30 [==============================] - 0s 3ms/step - loss: 0.6056 - accuracy: 0.7669 - val_loss: 0.2879 - val_accuracy: 0.9530\n",
            "Epoch 74/1000\n",
            "24/30 [=======================>......] - ETA: 0s - loss: 0.5872 - accuracy: 0.7773\n",
            "Epoch 74: saving model to model/keypoint_classifier\\keypoint_classifier.hdf5\n",
            "30/30 [==============================] - 0s 4ms/step - loss: 0.5905 - accuracy: 0.7741 - val_loss: 0.2837 - val_accuracy: 0.9522\n",
            "Epoch 75/1000\n",
            " 1/30 [>.............................] - ETA: 0s - loss: 0.5240 - accuracy: 0.7734\n",
            "Epoch 75: saving model to model/keypoint_classifier\\keypoint_classifier.hdf5\n",
            "30/30 [==============================] - 0s 3ms/step - loss: 0.5902 - accuracy: 0.7757 - val_loss: 0.2812 - val_accuracy: 0.9498\n",
            "Epoch 76/1000\n",
            " 1/30 [>.............................] - ETA: 0s - loss: 0.5937 - accuracy: 0.7891\n",
            "Epoch 76: saving model to model/keypoint_classifier\\keypoint_classifier.hdf5\n",
            "30/30 [==============================] - 0s 3ms/step - loss: 0.5823 - accuracy: 0.7727 - val_loss: 0.2806 - val_accuracy: 0.9530\n",
            "Epoch 77/1000\n",
            " 1/30 [>.............................] - ETA: 0s - loss: 0.5853 - accuracy: 0.7812\n",
            "Epoch 77: saving model to model/keypoint_classifier\\keypoint_classifier.hdf5\n",
            "30/30 [==============================] - 0s 3ms/step - loss: 0.5827 - accuracy: 0.7770 - val_loss: 0.2745 - val_accuracy: 0.9530\n",
            "Epoch 78/1000\n",
            " 1/30 [>.............................] - ETA: 0s - loss: 0.4877 - accuracy: 0.8281\n",
            "Epoch 78: saving model to model/keypoint_classifier\\keypoint_classifier.hdf5\n",
            "30/30 [==============================] - 0s 3ms/step - loss: 0.5820 - accuracy: 0.7751 - val_loss: 0.2716 - val_accuracy: 0.9537\n",
            "Epoch 79/1000\n",
            " 1/30 [>.............................] - ETA: 0s - loss: 0.5622 - accuracy: 0.7734\n",
            "Epoch 79: saving model to model/keypoint_classifier\\keypoint_classifier.hdf5\n",
            "30/30 [==============================] - 0s 3ms/step - loss: 0.5831 - accuracy: 0.7850 - val_loss: 0.2823 - val_accuracy: 0.9482\n",
            "Epoch 80/1000\n",
            " 1/30 [>.............................] - ETA: 0s - loss: 0.4840 - accuracy: 0.8516\n",
            "Epoch 80: saving model to model/keypoint_classifier\\keypoint_classifier.hdf5\n",
            "30/30 [==============================] - 0s 2ms/step - loss: 0.5653 - accuracy: 0.7850 - val_loss: 0.2764 - val_accuracy: 0.9522\n",
            "Epoch 81/1000\n",
            " 1/30 [>.............................] - ETA: 0s - loss: 0.5512 - accuracy: 0.8203\n",
            "Epoch 81: saving model to model/keypoint_classifier\\keypoint_classifier.hdf5\n",
            "30/30 [==============================] - 0s 3ms/step - loss: 0.5835 - accuracy: 0.7831 - val_loss: 0.2793 - val_accuracy: 0.9506\n",
            "Epoch 82/1000\n",
            " 1/30 [>.............................] - ETA: 0s - loss: 0.6098 - accuracy: 0.7891\n",
            "Epoch 82: saving model to model/keypoint_classifier\\keypoint_classifier.hdf5\n",
            "30/30 [==============================] - 0s 3ms/step - loss: 0.5744 - accuracy: 0.7879 - val_loss: 0.2666 - val_accuracy: 0.9569\n",
            "Epoch 83/1000\n",
            " 1/30 [>.............................] - ETA: 0s - loss: 0.5472 - accuracy: 0.7969\n",
            "Epoch 83: saving model to model/keypoint_classifier\\keypoint_classifier.hdf5\n",
            "30/30 [==============================] - 0s 3ms/step - loss: 0.5631 - accuracy: 0.7903 - val_loss: 0.2659 - val_accuracy: 0.9545\n",
            "Epoch 84/1000\n",
            " 1/30 [>.............................] - ETA: 0s - loss: 0.6127 - accuracy: 0.7734\n",
            "Epoch 84: saving model to model/keypoint_classifier\\keypoint_classifier.hdf5\n",
            "30/30 [==============================] - 0s 3ms/step - loss: 0.5809 - accuracy: 0.7727 - val_loss: 0.2729 - val_accuracy: 0.9522\n",
            "Epoch 85/1000\n",
            " 1/30 [>.............................] - ETA: 0s - loss: 0.5517 - accuracy: 0.7969\n",
            "Epoch 85: saving model to model/keypoint_classifier\\keypoint_classifier.hdf5\n",
            "30/30 [==============================] - 0s 3ms/step - loss: 0.5749 - accuracy: 0.7757 - val_loss: 0.2625 - val_accuracy: 0.9506\n",
            "Epoch 86/1000\n",
            " 1/30 [>.............................] - ETA: 0s - loss: 0.6303 - accuracy: 0.7578\n",
            "Epoch 86: saving model to model/keypoint_classifier\\keypoint_classifier.hdf5\n",
            "30/30 [==============================] - 0s 3ms/step - loss: 0.5870 - accuracy: 0.7717 - val_loss: 0.2712 - val_accuracy: 0.9506\n",
            "Epoch 87/1000\n",
            " 1/30 [>.............................] - ETA: 0s - loss: 0.5397 - accuracy: 0.7969\n",
            "Epoch 87: saving model to model/keypoint_classifier\\keypoint_classifier.hdf5\n",
            "30/30 [==============================] - 0s 3ms/step - loss: 0.5597 - accuracy: 0.7879 - val_loss: 0.2645 - val_accuracy: 0.9569\n",
            "Epoch 88/1000\n",
            " 1/30 [>.............................] - ETA: 0s - loss: 0.6241 - accuracy: 0.7031\n",
            "Epoch 88: saving model to model/keypoint_classifier\\keypoint_classifier.hdf5\n",
            "30/30 [==============================] - 0s 3ms/step - loss: 0.5871 - accuracy: 0.7701 - val_loss: 0.2673 - val_accuracy: 0.9522\n",
            "Epoch 89/1000\n",
            " 1/30 [>.............................] - ETA: 0s - loss: 0.5664 - accuracy: 0.7734\n",
            "Epoch 89: saving model to model/keypoint_classifier\\keypoint_classifier.hdf5\n",
            "30/30 [==============================] - 0s 3ms/step - loss: 0.5794 - accuracy: 0.7799 - val_loss: 0.2744 - val_accuracy: 0.9514\n",
            "Epoch 90/1000\n",
            " 1/30 [>.............................] - ETA: 0s - loss: 0.6130 - accuracy: 0.7656\n",
            "Epoch 90: saving model to model/keypoint_classifier\\keypoint_classifier.hdf5\n",
            "30/30 [==============================] - 0s 3ms/step - loss: 0.5695 - accuracy: 0.7887 - val_loss: 0.2712 - val_accuracy: 0.9522\n",
            "Epoch 91/1000\n",
            " 1/30 [>.............................] - ETA: 0s - loss: 0.4319 - accuracy: 0.8516\n",
            "Epoch 91: saving model to model/keypoint_classifier\\keypoint_classifier.hdf5\n",
            "30/30 [==============================] - 0s 3ms/step - loss: 0.5754 - accuracy: 0.7788 - val_loss: 0.2621 - val_accuracy: 0.9545\n",
            "Epoch 92/1000\n",
            " 1/30 [>.............................] - ETA: 0s - loss: 0.5348 - accuracy: 0.8125\n",
            "Epoch 92: saving model to model/keypoint_classifier\\keypoint_classifier.hdf5\n",
            "30/30 [==============================] - 0s 3ms/step - loss: 0.5574 - accuracy: 0.7879 - val_loss: 0.2596 - val_accuracy: 0.9522\n",
            "Epoch 93/1000\n",
            " 1/30 [>.............................] - ETA: 0s - loss: 0.5760 - accuracy: 0.7578\n",
            "Epoch 93: saving model to model/keypoint_classifier\\keypoint_classifier.hdf5\n",
            "30/30 [==============================] - 0s 3ms/step - loss: 0.5871 - accuracy: 0.7754 - val_loss: 0.2674 - val_accuracy: 0.9498\n",
            "Epoch 94/1000\n",
            " 1/30 [>.............................] - ETA: 0s - loss: 0.6450 - accuracy: 0.7266\n",
            "Epoch 94: saving model to model/keypoint_classifier\\keypoint_classifier.hdf5\n",
            "30/30 [==============================] - 0s 3ms/step - loss: 0.5723 - accuracy: 0.7839 - val_loss: 0.2586 - val_accuracy: 0.9553\n",
            "Epoch 95/1000\n",
            " 1/30 [>.............................] - ETA: 0s - loss: 0.5009 - accuracy: 0.7969\n",
            "Epoch 95: saving model to model/keypoint_classifier\\keypoint_classifier.hdf5\n",
            "30/30 [==============================] - 0s 3ms/step - loss: 0.5814 - accuracy: 0.7815 - val_loss: 0.2662 - val_accuracy: 0.9537\n",
            "Epoch 96/1000\n",
            " 1/30 [>.............................] - ETA: 0s - loss: 0.6659 - accuracy: 0.7578\n",
            "Epoch 96: saving model to model/keypoint_classifier\\keypoint_classifier.hdf5\n",
            "30/30 [==============================] - 0s 3ms/step - loss: 0.5758 - accuracy: 0.7855 - val_loss: 0.2706 - val_accuracy: 0.9522\n",
            "Epoch 97/1000\n",
            " 1/30 [>.............................] - ETA: 0s - loss: 0.5181 - accuracy: 0.7969\n",
            "Epoch 97: saving model to model/keypoint_classifier\\keypoint_classifier.hdf5\n",
            "30/30 [==============================] - 0s 3ms/step - loss: 0.5564 - accuracy: 0.7924 - val_loss: 0.2632 - val_accuracy: 0.9522\n",
            "Epoch 98/1000\n",
            " 1/30 [>.............................] - ETA: 0s - loss: 0.7456 - accuracy: 0.6641\n",
            "Epoch 98: saving model to model/keypoint_classifier\\keypoint_classifier.hdf5\n",
            "30/30 [==============================] - 0s 3ms/step - loss: 0.5650 - accuracy: 0.7889 - val_loss: 0.2579 - val_accuracy: 0.9537\n",
            "Epoch 99/1000\n",
            " 1/30 [>.............................] - ETA: 0s - loss: 0.5650 - accuracy: 0.7891\n",
            "Epoch 99: saving model to model/keypoint_classifier\\keypoint_classifier.hdf5\n",
            "30/30 [==============================] - 0s 3ms/step - loss: 0.5708 - accuracy: 0.7860 - val_loss: 0.2568 - val_accuracy: 0.9522\n",
            "Epoch 100/1000\n",
            " 1/30 [>.............................] - ETA: 0s - loss: 0.6057 - accuracy: 0.7422\n",
            "Epoch 100: saving model to model/keypoint_classifier\\keypoint_classifier.hdf5\n",
            "30/30 [==============================] - 0s 3ms/step - loss: 0.5721 - accuracy: 0.7741 - val_loss: 0.2571 - val_accuracy: 0.9545\n",
            "Epoch 101/1000\n",
            " 1/30 [>.............................] - ETA: 0s - loss: 0.5677 - accuracy: 0.7891\n",
            "Epoch 101: saving model to model/keypoint_classifier\\keypoint_classifier.hdf5\n",
            "30/30 [==============================] - 0s 3ms/step - loss: 0.5791 - accuracy: 0.7892 - val_loss: 0.2621 - val_accuracy: 0.9530\n",
            "Epoch 102/1000\n",
            " 1/30 [>.............................] - ETA: 0s - loss: 0.8224 - accuracy: 0.7734\n",
            "Epoch 102: saving model to model/keypoint_classifier\\keypoint_classifier.hdf5\n",
            "30/30 [==============================] - 0s 3ms/step - loss: 0.5752 - accuracy: 0.7852 - val_loss: 0.2610 - val_accuracy: 0.9522\n",
            "Epoch 103/1000\n",
            "22/30 [=====================>........] - ETA: 0s - loss: 0.5600 - accuracy: 0.7852\n",
            "Epoch 103: saving model to model/keypoint_classifier\\keypoint_classifier.hdf5\n",
            "30/30 [==============================] - 0s 4ms/step - loss: 0.5552 - accuracy: 0.7871 - val_loss: 0.2581 - val_accuracy: 0.9514\n",
            "Epoch 104/1000\n",
            " 1/30 [>.............................] - ETA: 0s - loss: 0.4768 - accuracy: 0.8359\n",
            "Epoch 104: saving model to model/keypoint_classifier\\keypoint_classifier.hdf5\n",
            "30/30 [==============================] - 0s 3ms/step - loss: 0.5596 - accuracy: 0.7847 - val_loss: 0.2634 - val_accuracy: 0.9474\n",
            "Epoch 105/1000\n",
            " 1/30 [>.............................] - ETA: 0s - loss: 0.5297 - accuracy: 0.8281\n",
            "Epoch 105: saving model to model/keypoint_classifier\\keypoint_classifier.hdf5\n",
            "30/30 [==============================] - 0s 3ms/step - loss: 0.5749 - accuracy: 0.7889 - val_loss: 0.2581 - val_accuracy: 0.9522\n",
            "Epoch 106/1000\n",
            " 1/30 [>.............................] - ETA: 0s - loss: 0.4832 - accuracy: 0.7969\n",
            "Epoch 106: saving model to model/keypoint_classifier\\keypoint_classifier.hdf5\n",
            "30/30 [==============================] - 0s 3ms/step - loss: 0.5580 - accuracy: 0.7836 - val_loss: 0.2599 - val_accuracy: 0.9530\n",
            "Epoch 107/1000\n",
            " 1/30 [>.............................] - ETA: 0s - loss: 0.6734 - accuracy: 0.7500\n",
            "Epoch 107: saving model to model/keypoint_classifier\\keypoint_classifier.hdf5\n",
            "30/30 [==============================] - 0s 3ms/step - loss: 0.5488 - accuracy: 0.7969 - val_loss: 0.2545 - val_accuracy: 0.9537\n",
            "Epoch 108/1000\n",
            " 1/30 [>.............................] - ETA: 0s - loss: 0.5810 - accuracy: 0.7422\n",
            "Epoch 108: saving model to model/keypoint_classifier\\keypoint_classifier.hdf5\n",
            "30/30 [==============================] - 0s 3ms/step - loss: 0.5307 - accuracy: 0.7961 - val_loss: 0.2455 - val_accuracy: 0.9553\n",
            "Epoch 109/1000\n",
            " 1/30 [>.............................] - ETA: 0s - loss: 0.5993 - accuracy: 0.7969\n",
            "Epoch 109: saving model to model/keypoint_classifier\\keypoint_classifier.hdf5\n",
            "30/30 [==============================] - 0s 3ms/step - loss: 0.5349 - accuracy: 0.8049 - val_loss: 0.2555 - val_accuracy: 0.9530\n",
            "Epoch 110/1000\n",
            " 1/30 [>.............................] - ETA: 0s - loss: 0.6128 - accuracy: 0.7109\n",
            "Epoch 110: saving model to model/keypoint_classifier\\keypoint_classifier.hdf5\n",
            "30/30 [==============================] - 0s 3ms/step - loss: 0.5548 - accuracy: 0.7884 - val_loss: 0.2484 - val_accuracy: 0.9537\n",
            "Epoch 111/1000\n",
            " 1/30 [>.............................] - ETA: 0s - loss: 0.4197 - accuracy: 0.8281\n",
            "Epoch 111: saving model to model/keypoint_classifier\\keypoint_classifier.hdf5\n",
            "30/30 [==============================] - 0s 3ms/step - loss: 0.5486 - accuracy: 0.7961 - val_loss: 0.2485 - val_accuracy: 0.9537\n",
            "Epoch 112/1000\n",
            " 1/30 [>.............................] - ETA: 0s - loss: 0.4534 - accuracy: 0.8516\n",
            "Epoch 112: saving model to model/keypoint_classifier\\keypoint_classifier.hdf5\n",
            "30/30 [==============================] - 0s 3ms/step - loss: 0.5583 - accuracy: 0.7868 - val_loss: 0.2498 - val_accuracy: 0.9537\n",
            "Epoch 113/1000\n",
            " 1/30 [>.............................] - ETA: 0s - loss: 0.4884 - accuracy: 0.7969\n",
            "Epoch 113: saving model to model/keypoint_classifier\\keypoint_classifier.hdf5\n",
            "30/30 [==============================] - 0s 3ms/step - loss: 0.5553 - accuracy: 0.7924 - val_loss: 0.2460 - val_accuracy: 0.9537\n",
            "Epoch 114/1000\n",
            " 1/30 [>.............................] - ETA: 0s - loss: 0.6809 - accuracy: 0.7266\n",
            "Epoch 114: saving model to model/keypoint_classifier\\keypoint_classifier.hdf5\n",
            "30/30 [==============================] - 0s 3ms/step - loss: 0.5718 - accuracy: 0.7823 - val_loss: 0.2526 - val_accuracy: 0.9530\n",
            "Epoch 115/1000\n",
            " 1/30 [>.............................] - ETA: 0s - loss: 0.4488 - accuracy: 0.8438\n",
            "Epoch 115: saving model to model/keypoint_classifier\\keypoint_classifier.hdf5\n",
            "30/30 [==============================] - 0s 3ms/step - loss: 0.5597 - accuracy: 0.7929 - val_loss: 0.2574 - val_accuracy: 0.9482\n",
            "Epoch 116/1000\n",
            " 1/30 [>.............................] - ETA: 0s - loss: 0.4284 - accuracy: 0.8359\n",
            "Epoch 116: saving model to model/keypoint_classifier\\keypoint_classifier.hdf5\n",
            "30/30 [==============================] - 0s 3ms/step - loss: 0.5430 - accuracy: 0.7897 - val_loss: 0.2473 - val_accuracy: 0.9561\n",
            "Epoch 117/1000\n",
            " 1/30 [>.............................] - ETA: 0s - loss: 0.5664 - accuracy: 0.7656\n",
            "Epoch 117: saving model to model/keypoint_classifier\\keypoint_classifier.hdf5\n",
            "30/30 [==============================] - 0s 3ms/step - loss: 0.5605 - accuracy: 0.7810 - val_loss: 0.2494 - val_accuracy: 0.9522\n",
            "Epoch 118/1000\n",
            " 1/30 [>.............................] - ETA: 0s - loss: 0.5988 - accuracy: 0.7500\n",
            "Epoch 118: saving model to model/keypoint_classifier\\keypoint_classifier.hdf5\n",
            "30/30 [==============================] - 0s 3ms/step - loss: 0.5544 - accuracy: 0.7951 - val_loss: 0.2478 - val_accuracy: 0.9530\n",
            "Epoch 119/1000\n",
            " 1/30 [>.............................] - ETA: 0s - loss: 0.5081 - accuracy: 0.8047\n",
            "Epoch 119: saving model to model/keypoint_classifier\\keypoint_classifier.hdf5\n",
            "30/30 [==============================] - 0s 3ms/step - loss: 0.5453 - accuracy: 0.7932 - val_loss: 0.2472 - val_accuracy: 0.9545\n",
            "Epoch 120/1000\n",
            " 1/30 [>.............................] - ETA: 0s - loss: 0.6045 - accuracy: 0.7969\n",
            "Epoch 120: saving model to model/keypoint_classifier\\keypoint_classifier.hdf5\n",
            "30/30 [==============================] - 0s 3ms/step - loss: 0.5511 - accuracy: 0.7977 - val_loss: 0.2529 - val_accuracy: 0.9522\n",
            "Epoch 121/1000\n",
            " 1/30 [>.............................] - ETA: 0s - loss: 0.5288 - accuracy: 0.7891\n",
            "Epoch 121: saving model to model/keypoint_classifier\\keypoint_classifier.hdf5\n",
            "30/30 [==============================] - 0s 3ms/step - loss: 0.5439 - accuracy: 0.7974 - val_loss: 0.2418 - val_accuracy: 0.9577\n",
            "Epoch 122/1000\n",
            " 1/30 [>.............................] - ETA: 0s - loss: 0.5062 - accuracy: 0.7891\n",
            "Epoch 122: saving model to model/keypoint_classifier\\keypoint_classifier.hdf5\n",
            "30/30 [==============================] - 0s 3ms/step - loss: 0.5393 - accuracy: 0.7951 - val_loss: 0.2457 - val_accuracy: 0.9537\n",
            "Epoch 123/1000\n",
            " 1/30 [>.............................] - ETA: 0s - loss: 0.5338 - accuracy: 0.8203\n",
            "Epoch 123: saving model to model/keypoint_classifier\\keypoint_classifier.hdf5\n",
            "30/30 [==============================] - 0s 3ms/step - loss: 0.5545 - accuracy: 0.7916 - val_loss: 0.2501 - val_accuracy: 0.9530\n",
            "Epoch 124/1000\n",
            " 1/30 [>.............................] - ETA: 0s - loss: 0.5408 - accuracy: 0.8672\n",
            "Epoch 124: saving model to model/keypoint_classifier\\keypoint_classifier.hdf5\n",
            "30/30 [==============================] - 0s 3ms/step - loss: 0.5546 - accuracy: 0.7956 - val_loss: 0.2484 - val_accuracy: 0.9553\n",
            "Epoch 125/1000\n",
            " 1/30 [>.............................] - ETA: 0s - loss: 0.6610 - accuracy: 0.7656\n",
            "Epoch 125: saving model to model/keypoint_classifier\\keypoint_classifier.hdf5\n",
            "30/30 [==============================] - 0s 3ms/step - loss: 0.5342 - accuracy: 0.7956 - val_loss: 0.2454 - val_accuracy: 0.9577\n",
            "Epoch 126/1000\n",
            " 1/30 [>.............................] - ETA: 0s - loss: 0.5346 - accuracy: 0.7734\n",
            "Epoch 126: saving model to model/keypoint_classifier\\keypoint_classifier.hdf5\n",
            "30/30 [==============================] - 0s 3ms/step - loss: 0.5388 - accuracy: 0.7985 - val_loss: 0.2427 - val_accuracy: 0.9569\n",
            "Epoch 127/1000\n",
            " 1/30 [>.............................] - ETA: 0s - loss: 0.5298 - accuracy: 0.7812\n",
            "Epoch 127: saving model to model/keypoint_classifier\\keypoint_classifier.hdf5\n",
            "30/30 [==============================] - 0s 3ms/step - loss: 0.5560 - accuracy: 0.7900 - val_loss: 0.2443 - val_accuracy: 0.9553\n",
            "Epoch 128/1000\n",
            " 1/30 [>.............................] - ETA: 0s - loss: 0.4806 - accuracy: 0.7969\n",
            "Epoch 128: saving model to model/keypoint_classifier\\keypoint_classifier.hdf5\n",
            "30/30 [==============================] - 0s 3ms/step - loss: 0.5474 - accuracy: 0.7932 - val_loss: 0.2463 - val_accuracy: 0.9530\n",
            "Epoch 129/1000\n",
            " 1/30 [>.............................] - ETA: 0s - loss: 0.4810 - accuracy: 0.8516\n",
            "Epoch 129: saving model to model/keypoint_classifier\\keypoint_classifier.hdf5\n",
            "30/30 [==============================] - 0s 3ms/step - loss: 0.5371 - accuracy: 0.8012 - val_loss: 0.2457 - val_accuracy: 0.9553\n",
            "Epoch 130/1000\n",
            " 1/30 [>.............................] - ETA: 0s - loss: 0.4824 - accuracy: 0.8125\n",
            "Epoch 130: saving model to model/keypoint_classifier\\keypoint_classifier.hdf5\n",
            "30/30 [==============================] - 0s 3ms/step - loss: 0.5603 - accuracy: 0.7876 - val_loss: 0.2448 - val_accuracy: 0.9569\n",
            "Epoch 131/1000\n",
            " 1/30 [>.............................] - ETA: 0s - loss: 0.6869 - accuracy: 0.7812\n",
            "Epoch 131: saving model to model/keypoint_classifier\\keypoint_classifier.hdf5\n",
            "30/30 [==============================] - 0s 3ms/step - loss: 0.5453 - accuracy: 0.7998 - val_loss: 0.2434 - val_accuracy: 0.9537\n",
            "Epoch 132/1000\n",
            " 1/30 [>.............................] - ETA: 0s - loss: 0.4710 - accuracy: 0.8203\n",
            "Epoch 132: saving model to model/keypoint_classifier\\keypoint_classifier.hdf5\n",
            "30/30 [==============================] - 0s 3ms/step - loss: 0.5393 - accuracy: 0.7982 - val_loss: 0.2381 - val_accuracy: 0.9561\n",
            "Epoch 133/1000\n",
            " 1/30 [>.............................] - ETA: 0s - loss: 0.4514 - accuracy: 0.8203\n",
            "Epoch 133: saving model to model/keypoint_classifier\\keypoint_classifier.hdf5\n",
            "30/30 [==============================] - 0s 3ms/step - loss: 0.5292 - accuracy: 0.8033 - val_loss: 0.2393 - val_accuracy: 0.9545\n",
            "Epoch 134/1000\n",
            " 1/30 [>.............................] - ETA: 0s - loss: 0.5295 - accuracy: 0.8125\n",
            "Epoch 134: saving model to model/keypoint_classifier\\keypoint_classifier.hdf5\n",
            "30/30 [==============================] - 0s 3ms/step - loss: 0.5449 - accuracy: 0.7961 - val_loss: 0.2428 - val_accuracy: 0.9553\n",
            "Epoch 135/1000\n",
            " 1/30 [>.............................] - ETA: 0s - loss: 0.5794 - accuracy: 0.7734\n",
            "Epoch 135: saving model to model/keypoint_classifier\\keypoint_classifier.hdf5\n",
            "30/30 [==============================] - 0s 3ms/step - loss: 0.5363 - accuracy: 0.7953 - val_loss: 0.2461 - val_accuracy: 0.9522\n",
            "Epoch 136/1000\n",
            " 1/30 [>.............................] - ETA: 0s - loss: 0.5849 - accuracy: 0.7891\n",
            "Epoch 136: saving model to model/keypoint_classifier\\keypoint_classifier.hdf5\n",
            "30/30 [==============================] - 0s 3ms/step - loss: 0.5321 - accuracy: 0.8001 - val_loss: 0.2424 - val_accuracy: 0.9530\n",
            "Epoch 137/1000\n",
            " 1/30 [>.............................] - ETA: 0s - loss: 0.5856 - accuracy: 0.7734\n",
            "Epoch 137: saving model to model/keypoint_classifier\\keypoint_classifier.hdf5\n",
            "30/30 [==============================] - 0s 3ms/step - loss: 0.5402 - accuracy: 0.7927 - val_loss: 0.2373 - val_accuracy: 0.9553\n",
            "Epoch 138/1000\n",
            " 1/30 [>.............................] - ETA: 0s - loss: 0.4711 - accuracy: 0.8359\n",
            "Epoch 138: saving model to model/keypoint_classifier\\keypoint_classifier.hdf5\n",
            "30/30 [==============================] - 0s 3ms/step - loss: 0.5272 - accuracy: 0.8046 - val_loss: 0.2381 - val_accuracy: 0.9585\n",
            "Epoch 139/1000\n",
            " 1/30 [>.............................] - ETA: 0s - loss: 0.5933 - accuracy: 0.7656\n",
            "Epoch 139: saving model to model/keypoint_classifier\\keypoint_classifier.hdf5\n",
            "30/30 [==============================] - 0s 3ms/step - loss: 0.5382 - accuracy: 0.8014 - val_loss: 0.2393 - val_accuracy: 0.9537\n",
            "Epoch 140/1000\n",
            " 1/30 [>.............................] - ETA: 0s - loss: 0.6025 - accuracy: 0.7969\n",
            "Epoch 140: saving model to model/keypoint_classifier\\keypoint_classifier.hdf5\n",
            "30/30 [==============================] - 0s 3ms/step - loss: 0.5374 - accuracy: 0.7985 - val_loss: 0.2460 - val_accuracy: 0.9506\n",
            "Epoch 141/1000\n",
            " 1/30 [>.............................] - ETA: 0s - loss: 0.6011 - accuracy: 0.7812\n",
            "Epoch 141: saving model to model/keypoint_classifier\\keypoint_classifier.hdf5\n",
            "30/30 [==============================] - 0s 3ms/step - loss: 0.5388 - accuracy: 0.7937 - val_loss: 0.2416 - val_accuracy: 0.9545\n",
            "Epoch 142/1000\n",
            " 1/30 [>.............................] - ETA: 0s - loss: 0.5500 - accuracy: 0.8281\n",
            "Epoch 142: saving model to model/keypoint_classifier\\keypoint_classifier.hdf5\n",
            "30/30 [==============================] - 0s 3ms/step - loss: 0.5467 - accuracy: 0.8009 - val_loss: 0.2388 - val_accuracy: 0.9537\n",
            "Epoch 143/1000\n",
            " 1/30 [>.............................] - ETA: 0s - loss: 0.6128 - accuracy: 0.7734\n",
            "Epoch 143: saving model to model/keypoint_classifier\\keypoint_classifier.hdf5\n",
            "30/30 [==============================] - 0s 2ms/step - loss: 0.5232 - accuracy: 0.8060 - val_loss: 0.2332 - val_accuracy: 0.9569\n",
            "Epoch 144/1000\n",
            "27/30 [==========================>...] - ETA: 0s - loss: 0.5419 - accuracy: 0.7894\n",
            "Epoch 144: saving model to model/keypoint_classifier\\keypoint_classifier.hdf5\n",
            "30/30 [==============================] - 0s 4ms/step - loss: 0.5356 - accuracy: 0.7945 - val_loss: 0.2407 - val_accuracy: 0.9545\n",
            "Epoch 145/1000\n",
            " 1/30 [>.............................] - ETA: 0s - loss: 0.6671 - accuracy: 0.7891\n",
            "Epoch 145: saving model to model/keypoint_classifier\\keypoint_classifier.hdf5\n",
            "30/30 [==============================] - 0s 3ms/step - loss: 0.5455 - accuracy: 0.7985 - val_loss: 0.2393 - val_accuracy: 0.9545\n",
            "Epoch 146/1000\n",
            " 1/30 [>.............................] - ETA: 0s - loss: 0.4661 - accuracy: 0.8281\n",
            "Epoch 146: saving model to model/keypoint_classifier\\keypoint_classifier.hdf5\n",
            "30/30 [==============================] - 0s 2ms/step - loss: 0.5261 - accuracy: 0.8057 - val_loss: 0.2408 - val_accuracy: 0.9530\n",
            "Epoch 147/1000\n",
            " 1/30 [>.............................] - ETA: 0s - loss: 0.5540 - accuracy: 0.7891\n",
            "Epoch 147: saving model to model/keypoint_classifier\\keypoint_classifier.hdf5\n",
            "30/30 [==============================] - 0s 3ms/step - loss: 0.5224 - accuracy: 0.8014 - val_loss: 0.2455 - val_accuracy: 0.9506\n",
            "Epoch 148/1000\n",
            " 1/30 [>.............................] - ETA: 0s - loss: 0.5615 - accuracy: 0.7891\n",
            "Epoch 148: saving model to model/keypoint_classifier\\keypoint_classifier.hdf5\n",
            "30/30 [==============================] - 0s 3ms/step - loss: 0.5417 - accuracy: 0.7959 - val_loss: 0.2387 - val_accuracy: 0.9569\n",
            "Epoch 149/1000\n",
            " 1/30 [>.............................] - ETA: 0s - loss: 0.4033 - accuracy: 0.8516\n",
            "Epoch 149: saving model to model/keypoint_classifier\\keypoint_classifier.hdf5\n",
            "30/30 [==============================] - 0s 3ms/step - loss: 0.5165 - accuracy: 0.8083 - val_loss: 0.2370 - val_accuracy: 0.9561\n",
            "Epoch 150/1000\n",
            " 1/30 [>.............................] - ETA: 0s - loss: 0.5464 - accuracy: 0.8438\n",
            "Epoch 150: saving model to model/keypoint_classifier\\keypoint_classifier.hdf5\n",
            "30/30 [==============================] - 0s 3ms/step - loss: 0.5427 - accuracy: 0.7900 - val_loss: 0.2531 - val_accuracy: 0.9498\n",
            "Epoch 151/1000\n",
            " 1/30 [>.............................] - ETA: 0s - loss: 0.5747 - accuracy: 0.7891\n",
            "Epoch 151: saving model to model/keypoint_classifier\\keypoint_classifier.hdf5\n",
            "30/30 [==============================] - 0s 3ms/step - loss: 0.5251 - accuracy: 0.8049 - val_loss: 0.2437 - val_accuracy: 0.9530\n",
            "Epoch 152/1000\n",
            " 1/30 [>.............................] - ETA: 0s - loss: 0.5173 - accuracy: 0.8047\n",
            "Epoch 152: saving model to model/keypoint_classifier\\keypoint_classifier.hdf5\n",
            "30/30 [==============================] - 0s 3ms/step - loss: 0.5195 - accuracy: 0.8052 - val_loss: 0.2372 - val_accuracy: 0.9561\n",
            "Epoch 153/1000\n",
            " 1/30 [>.............................] - ETA: 0s - loss: 0.5966 - accuracy: 0.7891\n",
            "Epoch 153: saving model to model/keypoint_classifier\\keypoint_classifier.hdf5\n",
            "30/30 [==============================] - 0s 3ms/step - loss: 0.5272 - accuracy: 0.7974 - val_loss: 0.2353 - val_accuracy: 0.9553\n",
            "Epoch 154/1000\n",
            " 1/30 [>.............................] - ETA: 0s - loss: 0.4719 - accuracy: 0.7891\n",
            "Epoch 154: saving model to model/keypoint_classifier\\keypoint_classifier.hdf5\n",
            "30/30 [==============================] - 0s 3ms/step - loss: 0.5402 - accuracy: 0.7900 - val_loss: 0.2340 - val_accuracy: 0.9577\n",
            "Epoch 155/1000\n",
            " 1/30 [>.............................] - ETA: 0s - loss: 0.5417 - accuracy: 0.8516\n",
            "Epoch 155: saving model to model/keypoint_classifier\\keypoint_classifier.hdf5\n",
            "30/30 [==============================] - 0s 3ms/step - loss: 0.5218 - accuracy: 0.8075 - val_loss: 0.2380 - val_accuracy: 0.9593\n",
            "Epoch 156/1000\n",
            " 1/30 [>.............................] - ETA: 0s - loss: 0.4454 - accuracy: 0.8203\n",
            "Epoch 156: saving model to model/keypoint_classifier\\keypoint_classifier.hdf5\n",
            "30/30 [==============================] - 0s 3ms/step - loss: 0.5155 - accuracy: 0.8046 - val_loss: 0.2400 - val_accuracy: 0.9530\n",
            "Epoch 157/1000\n",
            " 1/30 [>.............................] - ETA: 0s - loss: 0.6425 - accuracy: 0.7812\n",
            "Epoch 157: saving model to model/keypoint_classifier\\keypoint_classifier.hdf5\n",
            "30/30 [==============================] - 0s 3ms/step - loss: 0.5427 - accuracy: 0.7943 - val_loss: 0.2300 - val_accuracy: 0.9593\n",
            "Epoch 158/1000\n",
            " 1/30 [>.............................] - ETA: 0s - loss: 0.4689 - accuracy: 0.7891\n",
            "Epoch 158: saving model to model/keypoint_classifier\\keypoint_classifier.hdf5\n",
            "30/30 [==============================] - 0s 3ms/step - loss: 0.5182 - accuracy: 0.8123 - val_loss: 0.2330 - val_accuracy: 0.9545\n",
            "Epoch 159/1000\n",
            " 1/30 [>.............................] - ETA: 0s - loss: 0.5013 - accuracy: 0.8281\n",
            "Epoch 159: saving model to model/keypoint_classifier\\keypoint_classifier.hdf5\n",
            "30/30 [==============================] - 0s 3ms/step - loss: 0.5263 - accuracy: 0.8038 - val_loss: 0.2355 - val_accuracy: 0.9561\n",
            "Epoch 160/1000\n",
            " 1/30 [>.............................] - ETA: 0s - loss: 0.4707 - accuracy: 0.8438\n",
            "Epoch 160: saving model to model/keypoint_classifier\\keypoint_classifier.hdf5\n",
            "30/30 [==============================] - 0s 3ms/step - loss: 0.5191 - accuracy: 0.8102 - val_loss: 0.2370 - val_accuracy: 0.9561\n",
            "Epoch 161/1000\n",
            " 1/30 [>.............................] - ETA: 0s - loss: 0.4256 - accuracy: 0.8594\n",
            "Epoch 161: saving model to model/keypoint_classifier\\keypoint_classifier.hdf5\n",
            "30/30 [==============================] - 0s 3ms/step - loss: 0.5326 - accuracy: 0.7982 - val_loss: 0.2317 - val_accuracy: 0.9553\n",
            "Epoch 162/1000\n",
            " 1/30 [>.............................] - ETA: 0s - loss: 0.4915 - accuracy: 0.8438\n",
            "Epoch 162: saving model to model/keypoint_classifier\\keypoint_classifier.hdf5\n",
            "30/30 [==============================] - 0s 3ms/step - loss: 0.5257 - accuracy: 0.8060 - val_loss: 0.2374 - val_accuracy: 0.9553\n",
            "Epoch 163/1000\n",
            " 1/30 [>.............................] - ETA: 0s - loss: 0.4797 - accuracy: 0.8359\n",
            "Epoch 163: saving model to model/keypoint_classifier\\keypoint_classifier.hdf5\n",
            "30/30 [==============================] - 0s 3ms/step - loss: 0.5279 - accuracy: 0.8062 - val_loss: 0.2359 - val_accuracy: 0.9569\n",
            "Epoch 164/1000\n",
            " 1/30 [>.............................] - ETA: 0s - loss: 0.5136 - accuracy: 0.8047\n",
            "Epoch 164: saving model to model/keypoint_classifier\\keypoint_classifier.hdf5\n",
            "30/30 [==============================] - 0s 3ms/step - loss: 0.5239 - accuracy: 0.8020 - val_loss: 0.2289 - val_accuracy: 0.9625\n",
            "Epoch 165/1000\n",
            "26/30 [=========================>....] - ETA: 0s - loss: 0.5156 - accuracy: 0.8047\n",
            "Epoch 165: saving model to model/keypoint_classifier\\keypoint_classifier.hdf5\n",
            "30/30 [==============================] - 0s 4ms/step - loss: 0.5163 - accuracy: 0.8038 - val_loss: 0.2306 - val_accuracy: 0.9585\n",
            "Epoch 166/1000\n",
            " 1/30 [>.............................] - ETA: 0s - loss: 0.5735 - accuracy: 0.7812\n",
            "Epoch 166: saving model to model/keypoint_classifier\\keypoint_classifier.hdf5\n",
            "30/30 [==============================] - 0s 3ms/step - loss: 0.5174 - accuracy: 0.8028 - val_loss: 0.2334 - val_accuracy: 0.9522\n",
            "Epoch 167/1000\n",
            " 1/30 [>.............................] - ETA: 0s - loss: 0.5037 - accuracy: 0.7891\n",
            "Epoch 167: saving model to model/keypoint_classifier\\keypoint_classifier.hdf5\n",
            "30/30 [==============================] - 0s 3ms/step - loss: 0.5207 - accuracy: 0.8097 - val_loss: 0.2315 - val_accuracy: 0.9569\n",
            "Epoch 168/1000\n",
            " 1/30 [>.............................] - ETA: 0s - loss: 0.5892 - accuracy: 0.8125\n",
            "Epoch 168: saving model to model/keypoint_classifier\\keypoint_classifier.hdf5\n",
            "30/30 [==============================] - 0s 3ms/step - loss: 0.5294 - accuracy: 0.8038 - val_loss: 0.2321 - val_accuracy: 0.9585\n",
            "Epoch 169/1000\n",
            " 1/30 [>.............................] - ETA: 0s - loss: 0.4693 - accuracy: 0.8125\n",
            "Epoch 169: saving model to model/keypoint_classifier\\keypoint_classifier.hdf5\n",
            "30/30 [==============================] - 0s 3ms/step - loss: 0.5220 - accuracy: 0.7998 - val_loss: 0.2418 - val_accuracy: 0.9522\n",
            "Epoch 170/1000\n",
            " 1/30 [>.............................] - ETA: 0s - loss: 0.5502 - accuracy: 0.7656\n",
            "Epoch 170: saving model to model/keypoint_classifier\\keypoint_classifier.hdf5\n",
            "30/30 [==============================] - 0s 3ms/step - loss: 0.5241 - accuracy: 0.7998 - val_loss: 0.2339 - val_accuracy: 0.9609\n",
            "Epoch 171/1000\n",
            " 1/30 [>.............................] - ETA: 0s - loss: 0.5171 - accuracy: 0.8047\n",
            "Epoch 171: saving model to model/keypoint_classifier\\keypoint_classifier.hdf5\n",
            "30/30 [==============================] - 0s 3ms/step - loss: 0.5149 - accuracy: 0.8097 - val_loss: 0.2411 - val_accuracy: 0.9506\n",
            "Epoch 172/1000\n",
            " 1/30 [>.............................] - ETA: 0s - loss: 0.4171 - accuracy: 0.8438\n",
            "Epoch 172: saving model to model/keypoint_classifier\\keypoint_classifier.hdf5\n",
            "30/30 [==============================] - 0s 3ms/step - loss: 0.5170 - accuracy: 0.8054 - val_loss: 0.2433 - val_accuracy: 0.9506\n",
            "Epoch 173/1000\n",
            " 1/30 [>.............................] - ETA: 0s - loss: 0.4813 - accuracy: 0.8047\n",
            "Epoch 173: saving model to model/keypoint_classifier\\keypoint_classifier.hdf5\n",
            "30/30 [==============================] - 0s 3ms/step - loss: 0.5259 - accuracy: 0.7977 - val_loss: 0.2363 - val_accuracy: 0.9561\n",
            "Epoch 174/1000\n",
            " 1/30 [>.............................] - ETA: 0s - loss: 0.5306 - accuracy: 0.7500\n",
            "Epoch 174: saving model to model/keypoint_classifier\\keypoint_classifier.hdf5\n",
            "30/30 [==============================] - 0s 3ms/step - loss: 0.5157 - accuracy: 0.8028 - val_loss: 0.2318 - val_accuracy: 0.9561\n",
            "Epoch 175/1000\n",
            " 1/30 [>.............................] - ETA: 0s - loss: 0.4451 - accuracy: 0.8516\n",
            "Epoch 175: saving model to model/keypoint_classifier\\keypoint_classifier.hdf5\n",
            "30/30 [==============================] - 0s 3ms/step - loss: 0.5238 - accuracy: 0.8052 - val_loss: 0.2417 - val_accuracy: 0.9522\n",
            "Epoch 176/1000\n",
            " 1/30 [>.............................] - ETA: 0s - loss: 0.5157 - accuracy: 0.8125\n",
            "Epoch 176: saving model to model/keypoint_classifier\\keypoint_classifier.hdf5\n",
            "30/30 [==============================] - 0s 3ms/step - loss: 0.5151 - accuracy: 0.8091 - val_loss: 0.2304 - val_accuracy: 0.9593\n",
            "Epoch 177/1000\n",
            " 1/30 [>.............................] - ETA: 0s - loss: 0.4899 - accuracy: 0.7812\n",
            "Epoch 177: saving model to model/keypoint_classifier\\keypoint_classifier.hdf5\n",
            "30/30 [==============================] - 0s 3ms/step - loss: 0.5141 - accuracy: 0.8046 - val_loss: 0.2376 - val_accuracy: 0.9537\n",
            "Epoch 178/1000\n",
            " 1/30 [>.............................] - ETA: 0s - loss: 0.5573 - accuracy: 0.7734\n",
            "Epoch 178: saving model to model/keypoint_classifier\\keypoint_classifier.hdf5\n",
            "30/30 [==============================] - 0s 3ms/step - loss: 0.5351 - accuracy: 0.7972 - val_loss: 0.2394 - val_accuracy: 0.9530\n",
            "Epoch 179/1000\n",
            " 1/30 [>.............................] - ETA: 0s - loss: 0.4513 - accuracy: 0.8203\n",
            "Epoch 179: saving model to model/keypoint_classifier\\keypoint_classifier.hdf5\n",
            "30/30 [==============================] - 0s 3ms/step - loss: 0.5206 - accuracy: 0.8097 - val_loss: 0.2317 - val_accuracy: 0.9593\n",
            "Epoch 180/1000\n",
            " 1/30 [>.............................] - ETA: 0s - loss: 0.4779 - accuracy: 0.8047\n",
            "Epoch 180: saving model to model/keypoint_classifier\\keypoint_classifier.hdf5\n",
            "30/30 [==============================] - 0s 3ms/step - loss: 0.5339 - accuracy: 0.8001 - val_loss: 0.2278 - val_accuracy: 0.9545\n",
            "Epoch 181/1000\n",
            " 1/30 [>.............................] - ETA: 0s - loss: 0.4247 - accuracy: 0.8203\n",
            "Epoch 181: saving model to model/keypoint_classifier\\keypoint_classifier.hdf5\n",
            "30/30 [==============================] - 0s 3ms/step - loss: 0.5178 - accuracy: 0.8065 - val_loss: 0.2302 - val_accuracy: 0.9593\n",
            "Epoch 182/1000\n",
            " 1/30 [>.............................] - ETA: 0s - loss: 0.5269 - accuracy: 0.7812\n",
            "Epoch 182: saving model to model/keypoint_classifier\\keypoint_classifier.hdf5\n",
            "30/30 [==============================] - 0s 3ms/step - loss: 0.5332 - accuracy: 0.7905 - val_loss: 0.2371 - val_accuracy: 0.9490\n",
            "Epoch 183/1000\n",
            " 1/30 [>.............................] - ETA: 0s - loss: 0.3723 - accuracy: 0.8359\n",
            "Epoch 183: saving model to model/keypoint_classifier\\keypoint_classifier.hdf5\n",
            "30/30 [==============================] - 0s 4ms/step - loss: 0.5114 - accuracy: 0.8086 - val_loss: 0.2352 - val_accuracy: 0.9530\n",
            "Epoch 184/1000\n",
            " 1/30 [>.............................] - ETA: 0s - loss: 0.4073 - accuracy: 0.8438\n",
            "Epoch 184: saving model to model/keypoint_classifier\\keypoint_classifier.hdf5\n",
            "30/30 [==============================] - 0s 3ms/step - loss: 0.5107 - accuracy: 0.8075 - val_loss: 0.2390 - val_accuracy: 0.9522\n",
            "Epoch 185/1000\n",
            " 1/30 [>.............................] - ETA: 0s - loss: 0.4792 - accuracy: 0.8125\n",
            "Epoch 185: saving model to model/keypoint_classifier\\keypoint_classifier.hdf5\n",
            "30/30 [==============================] - 0s 3ms/step - loss: 0.5185 - accuracy: 0.8068 - val_loss: 0.2345 - val_accuracy: 0.9553\n",
            "Epoch 186/1000\n",
            " 1/30 [>.............................] - ETA: 0s - loss: 0.5756 - accuracy: 0.8125\n",
            "Epoch 186: saving model to model/keypoint_classifier\\keypoint_classifier.hdf5\n",
            "30/30 [==============================] - 0s 3ms/step - loss: 0.5065 - accuracy: 0.8060 - val_loss: 0.2361 - val_accuracy: 0.9498\n",
            "Epoch 187/1000\n",
            " 1/30 [>.............................] - ETA: 0s - loss: 0.5403 - accuracy: 0.8125\n",
            "Epoch 187: saving model to model/keypoint_classifier\\keypoint_classifier.hdf5\n",
            "30/30 [==============================] - 0s 3ms/step - loss: 0.5098 - accuracy: 0.8068 - val_loss: 0.2316 - val_accuracy: 0.9545\n",
            "Epoch 188/1000\n",
            " 1/30 [>.............................] - ETA: 0s - loss: 0.4512 - accuracy: 0.8125\n",
            "Epoch 188: saving model to model/keypoint_classifier\\keypoint_classifier.hdf5\n",
            "30/30 [==============================] - 0s 3ms/step - loss: 0.5128 - accuracy: 0.8060 - val_loss: 0.2305 - val_accuracy: 0.9585\n",
            "Epoch 189/1000\n",
            " 1/30 [>.............................] - ETA: 0s - loss: 0.5216 - accuracy: 0.7812\n",
            "Epoch 189: saving model to model/keypoint_classifier\\keypoint_classifier.hdf5\n",
            "30/30 [==============================] - 0s 3ms/step - loss: 0.5209 - accuracy: 0.8041 - val_loss: 0.2253 - val_accuracy: 0.9569\n",
            "Epoch 190/1000\n",
            " 1/30 [>.............................] - ETA: 0s - loss: 0.5966 - accuracy: 0.7656\n",
            "Epoch 190: saving model to model/keypoint_classifier\\keypoint_classifier.hdf5\n",
            "30/30 [==============================] - 0s 3ms/step - loss: 0.5138 - accuracy: 0.8145 - val_loss: 0.2337 - val_accuracy: 0.9545\n",
            "Epoch 191/1000\n",
            " 1/30 [>.............................] - ETA: 0s - loss: 0.5003 - accuracy: 0.7969\n",
            "Epoch 191: saving model to model/keypoint_classifier\\keypoint_classifier.hdf5\n",
            "30/30 [==============================] - 0s 3ms/step - loss: 0.5376 - accuracy: 0.7860 - val_loss: 0.2383 - val_accuracy: 0.9537\n",
            "Epoch 192/1000\n",
            " 1/30 [>.............................] - ETA: 0s - loss: 0.5771 - accuracy: 0.7891\n",
            "Epoch 192: saving model to model/keypoint_classifier\\keypoint_classifier.hdf5\n",
            "30/30 [==============================] - 0s 3ms/step - loss: 0.5336 - accuracy: 0.8036 - val_loss: 0.2379 - val_accuracy: 0.9553\n",
            "Epoch 193/1000\n",
            " 1/30 [>.............................] - ETA: 0s - loss: 0.5666 - accuracy: 0.8047\n",
            "Epoch 193: saving model to model/keypoint_classifier\\keypoint_classifier.hdf5\n",
            "30/30 [==============================] - 0s 3ms/step - loss: 0.5212 - accuracy: 0.8134 - val_loss: 0.2335 - val_accuracy: 0.9537\n",
            "Epoch 194/1000\n",
            " 1/30 [>.............................] - ETA: 0s - loss: 0.4570 - accuracy: 0.7969\n",
            "Epoch 194: saving model to model/keypoint_classifier\\keypoint_classifier.hdf5\n",
            "30/30 [==============================] - 0s 3ms/step - loss: 0.5116 - accuracy: 0.8065 - val_loss: 0.2288 - val_accuracy: 0.9577\n",
            "Epoch 195/1000\n",
            " 1/30 [>.............................] - ETA: 0s - loss: 0.6296 - accuracy: 0.7734\n",
            "Epoch 195: saving model to model/keypoint_classifier\\keypoint_classifier.hdf5\n",
            "30/30 [==============================] - 0s 3ms/step - loss: 0.5158 - accuracy: 0.8065 - val_loss: 0.2277 - val_accuracy: 0.9561\n",
            "Epoch 196/1000\n",
            " 1/30 [>.............................] - ETA: 0s - loss: 0.6411 - accuracy: 0.7812\n",
            "Epoch 196: saving model to model/keypoint_classifier\\keypoint_classifier.hdf5\n",
            "30/30 [==============================] - 0s 3ms/step - loss: 0.5061 - accuracy: 0.8091 - val_loss: 0.2253 - val_accuracy: 0.9530\n",
            "Epoch 197/1000\n",
            " 1/30 [>.............................] - ETA: 0s - loss: 0.4393 - accuracy: 0.8203\n",
            "Epoch 197: saving model to model/keypoint_classifier\\keypoint_classifier.hdf5\n",
            "30/30 [==============================] - 0s 3ms/step - loss: 0.5011 - accuracy: 0.8113 - val_loss: 0.2315 - val_accuracy: 0.9522\n",
            "Epoch 198/1000\n",
            " 1/30 [>.............................] - ETA: 0s - loss: 0.4727 - accuracy: 0.8125\n",
            "Epoch 198: saving model to model/keypoint_classifier\\keypoint_classifier.hdf5\n",
            "30/30 [==============================] - 0s 3ms/step - loss: 0.4891 - accuracy: 0.8110 - val_loss: 0.2263 - val_accuracy: 0.9569\n",
            "Epoch 199/1000\n",
            " 1/30 [>.............................] - ETA: 0s - loss: 0.5007 - accuracy: 0.8047\n",
            "Epoch 199: saving model to model/keypoint_classifier\\keypoint_classifier.hdf5\n",
            "30/30 [==============================] - 0s 3ms/step - loss: 0.5000 - accuracy: 0.8118 - val_loss: 0.2452 - val_accuracy: 0.9474\n",
            "Epoch 200/1000\n",
            " 1/30 [>.............................] - ETA: 0s - loss: 0.5762 - accuracy: 0.7891\n",
            "Epoch 200: saving model to model/keypoint_classifier\\keypoint_classifier.hdf5\n",
            "30/30 [==============================] - 0s 3ms/step - loss: 0.4865 - accuracy: 0.8123 - val_loss: 0.2205 - val_accuracy: 0.9577\n",
            "Epoch 201/1000\n",
            " 1/30 [>.............................] - ETA: 0s - loss: 0.5137 - accuracy: 0.8047\n",
            "Epoch 201: saving model to model/keypoint_classifier\\keypoint_classifier.hdf5\n",
            "30/30 [==============================] - 0s 3ms/step - loss: 0.5240 - accuracy: 0.8017 - val_loss: 0.2298 - val_accuracy: 0.9506\n",
            "Epoch 202/1000\n",
            " 1/30 [>.............................] - ETA: 0s - loss: 0.4810 - accuracy: 0.8203\n",
            "Epoch 202: saving model to model/keypoint_classifier\\keypoint_classifier.hdf5\n",
            "30/30 [==============================] - 0s 4ms/step - loss: 0.5110 - accuracy: 0.7985 - val_loss: 0.2246 - val_accuracy: 0.9537\n",
            "Epoch 203/1000\n",
            " 1/30 [>.............................] - ETA: 0s - loss: 0.5495 - accuracy: 0.7344\n",
            "Epoch 203: saving model to model/keypoint_classifier\\keypoint_classifier.hdf5\n",
            "30/30 [==============================] - 0s 3ms/step - loss: 0.5228 - accuracy: 0.8099 - val_loss: 0.2240 - val_accuracy: 0.9577\n",
            "Epoch 204/1000\n",
            " 1/30 [>.............................] - ETA: 0s - loss: 0.4204 - accuracy: 0.8516\n",
            "Epoch 204: saving model to model/keypoint_classifier\\keypoint_classifier.hdf5\n",
            "30/30 [==============================] - 0s 3ms/step - loss: 0.4992 - accuracy: 0.8131 - val_loss: 0.2249 - val_accuracy: 0.9601\n",
            "Epoch 205/1000\n",
            " 1/30 [>.............................] - ETA: 0s - loss: 0.6358 - accuracy: 0.8125\n",
            "Epoch 205: saving model to model/keypoint_classifier\\keypoint_classifier.hdf5\n",
            "30/30 [==============================] - 0s 3ms/step - loss: 0.5148 - accuracy: 0.8134 - val_loss: 0.2320 - val_accuracy: 0.9569\n",
            "Epoch 206/1000\n",
            " 1/30 [>.............................] - ETA: 0s - loss: 0.4466 - accuracy: 0.8047\n",
            "Epoch 206: saving model to model/keypoint_classifier\\keypoint_classifier.hdf5\n",
            "30/30 [==============================] - 0s 3ms/step - loss: 0.5136 - accuracy: 0.8012 - val_loss: 0.2335 - val_accuracy: 0.9530\n",
            "Epoch 207/1000\n",
            " 1/30 [>.............................] - ETA: 0s - loss: 0.5354 - accuracy: 0.8359\n",
            "Epoch 207: saving model to model/keypoint_classifier\\keypoint_classifier.hdf5\n",
            "30/30 [==============================] - 0s 3ms/step - loss: 0.5215 - accuracy: 0.8022 - val_loss: 0.2345 - val_accuracy: 0.9537\n",
            "Epoch 208/1000\n",
            " 1/30 [>.............................] - ETA: 0s - loss: 0.5374 - accuracy: 0.8125\n",
            "Epoch 208: saving model to model/keypoint_classifier\\keypoint_classifier.hdf5\n",
            "30/30 [==============================] - 0s 3ms/step - loss: 0.5144 - accuracy: 0.8113 - val_loss: 0.2279 - val_accuracy: 0.9537\n",
            "Epoch 209/1000\n",
            " 1/30 [>.............................] - ETA: 0s - loss: 0.6227 - accuracy: 0.7656\n",
            "Epoch 209: saving model to model/keypoint_classifier\\keypoint_classifier.hdf5\n",
            "30/30 [==============================] - 0s 3ms/step - loss: 0.4929 - accuracy: 0.8155 - val_loss: 0.2213 - val_accuracy: 0.9561\n",
            "Epoch 210/1000\n",
            " 1/30 [>.............................] - ETA: 0s - loss: 0.4492 - accuracy: 0.8359\n",
            "Epoch 210: saving model to model/keypoint_classifier\\keypoint_classifier.hdf5\n",
            "30/30 [==============================] - 0s 3ms/step - loss: 0.5062 - accuracy: 0.8091 - val_loss: 0.2260 - val_accuracy: 0.9577\n",
            "Epoch 211/1000\n",
            " 1/30 [>.............................] - ETA: 0s - loss: 0.4759 - accuracy: 0.8125\n",
            "Epoch 211: saving model to model/keypoint_classifier\\keypoint_classifier.hdf5\n",
            "30/30 [==============================] - 0s 3ms/step - loss: 0.5064 - accuracy: 0.8105 - val_loss: 0.2322 - val_accuracy: 0.9537\n",
            "Epoch 212/1000\n",
            "20/30 [===================>..........] - ETA: 0s - loss: 0.5249 - accuracy: 0.8148\n",
            "Epoch 212: saving model to model/keypoint_classifier\\keypoint_classifier.hdf5\n",
            "30/30 [==============================] - 0s 4ms/step - loss: 0.5204 - accuracy: 0.8113 - val_loss: 0.2227 - val_accuracy: 0.9585\n",
            "Epoch 213/1000\n",
            " 1/30 [>.............................] - ETA: 0s - loss: 0.4927 - accuracy: 0.8203\n",
            "Epoch 213: saving model to model/keypoint_classifier\\keypoint_classifier.hdf5\n",
            "30/30 [==============================] - 0s 3ms/step - loss: 0.5187 - accuracy: 0.8020 - val_loss: 0.2389 - val_accuracy: 0.9522\n",
            "Epoch 214/1000\n",
            " 1/30 [>.............................] - ETA: 0s - loss: 0.5156 - accuracy: 0.8359\n",
            "Epoch 214: saving model to model/keypoint_classifier\\keypoint_classifier.hdf5\n",
            "30/30 [==============================] - 0s 3ms/step - loss: 0.4868 - accuracy: 0.8283 - val_loss: 0.2306 - val_accuracy: 0.9569\n",
            "Epoch 215/1000\n",
            " 1/30 [>.............................] - ETA: 0s - loss: 0.5267 - accuracy: 0.7969\n",
            "Epoch 215: saving model to model/keypoint_classifier\\keypoint_classifier.hdf5\n",
            "30/30 [==============================] - 0s 3ms/step - loss: 0.5215 - accuracy: 0.8105 - val_loss: 0.2339 - val_accuracy: 0.9537\n",
            "Epoch 216/1000\n",
            " 1/30 [>.............................] - ETA: 0s - loss: 0.5162 - accuracy: 0.8125\n",
            "Epoch 216: saving model to model/keypoint_classifier\\keypoint_classifier.hdf5\n",
            "30/30 [==============================] - 0s 3ms/step - loss: 0.5014 - accuracy: 0.8177 - val_loss: 0.2331 - val_accuracy: 0.9530\n",
            "Epoch 217/1000\n",
            " 1/30 [>.............................] - ETA: 0s - loss: 0.4396 - accuracy: 0.8281\n",
            "Epoch 217: saving model to model/keypoint_classifier\\keypoint_classifier.hdf5\n",
            "30/30 [==============================] - 0s 3ms/step - loss: 0.5016 - accuracy: 0.8129 - val_loss: 0.2294 - val_accuracy: 0.9545\n",
            "Epoch 218/1000\n",
            " 1/30 [>.............................] - ETA: 0s - loss: 0.4379 - accuracy: 0.8594\n",
            "Epoch 218: saving model to model/keypoint_classifier\\keypoint_classifier.hdf5\n",
            "30/30 [==============================] - 0s 3ms/step - loss: 0.5164 - accuracy: 0.8118 - val_loss: 0.2344 - val_accuracy: 0.9514\n",
            "Epoch 219/1000\n",
            " 1/30 [>.............................] - ETA: 0s - loss: 0.4176 - accuracy: 0.8594\n",
            "Epoch 219: saving model to model/keypoint_classifier\\keypoint_classifier.hdf5\n",
            "30/30 [==============================] - 0s 3ms/step - loss: 0.5151 - accuracy: 0.8091 - val_loss: 0.2257 - val_accuracy: 0.9617\n",
            "Epoch 220/1000\n",
            " 1/30 [>.............................] - ETA: 0s - loss: 0.5158 - accuracy: 0.8125\n",
            "Epoch 220: saving model to model/keypoint_classifier\\keypoint_classifier.hdf5\n",
            "30/30 [==============================] - 0s 3ms/step - loss: 0.5122 - accuracy: 0.8089 - val_loss: 0.2309 - val_accuracy: 0.9530\n",
            "Epoch 220: early stopping\n"
          ]
        },
        {
          "data": {
            "text/plain": [
              "<keras.src.callbacks.History at 0x244ceacd070>"
            ]
          },
          "execution_count": 71,
          "metadata": {},
          "output_type": "execute_result"
        }
      ],
      "source": [
        "model.fit(\n",
        "    X_train,\n",
        "    y_train,\n",
        "    epochs=1000,\n",
        "    batch_size=128,\n",
        "    validation_data=(X_test, y_test),\n",
        "    callbacks=[cp_callback, es_callback]\n",
        ")"
      ]
    },
    {
      "cell_type": "code",
      "execution_count": 72,
      "metadata": {
        "colab": {
          "base_uri": "https://localhost:8080/"
        },
        "id": "pxvb2Y299hE3",
        "outputId": "59eb3185-2e37-4b9e-bc9d-ab1b8ac29b7f"
      },
      "outputs": [
        {
          "name": "stdout",
          "output_type": "stream",
          "text": [
            "10/10 [==============================] - 0s 1ms/step - loss: 0.2309 - accuracy: 0.9530\n"
          ]
        }
      ],
      "source": [
        "# Model evaluation\n",
        "val_loss, val_acc = model.evaluate(X_test, y_test, batch_size=128)"
      ]
    },
    {
      "cell_type": "code",
      "execution_count": 73,
      "metadata": {
        "id": "RBkmDeUW9hE4"
      },
      "outputs": [],
      "source": [
        "# Loading the saved model\n",
        "model = tf.keras.models.load_model(model_save_path)"
      ]
    },
    {
      "cell_type": "code",
      "execution_count": 74,
      "metadata": {
        "colab": {
          "base_uri": "https://localhost:8080/"
        },
        "id": "tFz9Tb0I9hE4",
        "outputId": "1c3b3528-54ae-4ee2-ab04-77429211cbef"
      },
      "outputs": [
        {
          "name": "stdout",
          "output_type": "stream",
          "text": [
            "1/1 [==============================] - 0s 39ms/step\n",
            "[9.6316762e-02 5.6944197e-01 3.3423659e-01 1.6378779e-07 4.5662109e-06]\n",
            "1\n"
          ]
        }
      ],
      "source": [
        "# Inference test\n",
        "predict_result = model.predict(np.array([X_test[0]]))\n",
        "print(np.squeeze(predict_result))\n",
        "print(np.argmax(np.squeeze(predict_result)))"
      ]
    },
    {
      "cell_type": "markdown",
      "metadata": {
        "id": "S3U4yNWx9hE4"
      },
      "source": [
        "# Confusion matrix"
      ]
    },
    {
      "cell_type": "code",
      "execution_count": 75,
      "metadata": {
        "colab": {
          "base_uri": "https://localhost:8080/",
          "height": 582
        },
        "id": "AP1V6SCk9hE5",
        "outputId": "08e41a80-7a4a-4619-8125-ecc371368d19"
      },
      "outputs": [
        {
          "name": "stdout",
          "output_type": "stream",
          "text": [
            "40/40 [==============================] - 0s 667us/step\n"
          ]
        },
        {
          "data": {
            "image/png": "[encoded data removed]",
            "text/plain": [
              "<Figure size 700x600 with 2 Axes>"
            ]
          },
          "metadata": {},
          "output_type": "display_data"
        },
        {
          "name": "stdout",
          "output_type": "stream",
          "text": [
            "Classification Report\n",
            "              precision    recall  f1-score   support\n",
            "\n",
            "           0       0.98      0.99      0.98       389\n",
            "           1       0.98      0.89      0.93       387\n",
            "           2       0.89      0.98      0.93       345\n",
            "           3       0.99      1.00      0.99        84\n",
            "           4       0.96      0.92      0.94        49\n",
            "\n",
            "    accuracy                           0.95      1254\n",
            "   macro avg       0.96      0.95      0.96      1254\n",
            "weighted avg       0.96      0.95      0.95      1254\n",
            "\n"
          ]
        }
      ],
      "source": [
        "import pandas as pd\n",
        "import seaborn as sns\n",
        "import matplotlib.pyplot as plt\n",
        "from sklearn.metrics import confusion_matrix, classification_report\n",
        "\n",
        "def print_confusion_matrix(y_true, y_pred, report=True):\n",
        "    labels = sorted(list(set(y_true)))\n",
        "    cmx_data = confusion_matrix(y_true, y_pred, labels=labels)\n",
        "    \n",
        "    df_cmx = pd.DataFrame(cmx_data, index=labels, columns=labels)\n",
        " \n",
        "    fig, ax = plt.subplots(figsize=(7, 6))\n",
        "    sns.heatmap(df_cmx, annot=True, fmt='g' ,square=False)\n",
        "    ax.set_ylim(len(set(y_true)), 0)\n",
        "    plt.show()\n",
        "    \n",
        "    if report:\n",
        "        print('Classification Report')\n",
        "        print(classification_report(y_test, y_pred))\n",
        "\n",
        "Y_pred = model.predict(X_test)\n",
        "y_pred = np.argmax(Y_pred, axis=1)\n",
        "\n",
        "print_confusion_matrix(y_test, y_pred)"
      ]
    },
    {
      "cell_type": "markdown",
      "metadata": {
        "id": "FNP6aqzc9hE5"
      },
      "source": [
        "# Convert to model for Tensorflow-Lite"
      ]
    },
    {
      "cell_type": "code",
      "execution_count": 76,
      "metadata": {
        "id": "ODjnYyld9hE6"
      },
      "outputs": [
        {
          "name": "stderr",
          "output_type": "stream",
          "text": [
            "c:\\Users\\Admin\\Desktop\\clone\\hand-gesture-recognition-mediapipe\\env\\lib\\site-packages\\keras\\src\\engine\\training.py:3000: UserWarning: You are saving your model as an HDF5 file via `model.save()`. This file format is considered legacy. We recommend using instead the native Keras format, e.g. `model.save('my_model.keras')`.\n",
            "  saving_api.save_model(\n"
          ]
        }
      ],
      "source": [
        "# Save as a model dedicated to inference\n",
        "model.save(model_save_path, include_optimizer=False)"
      ]
    },
    {
      "cell_type": "code",
      "execution_count": 77,
      "metadata": {
        "colab": {
          "base_uri": "https://localhost:8080/"
        },
        "id": "zRfuK8Y59hE6",
        "outputId": "a4ca585c-b5d5-4244-8291-8674063209bb"
      },
      "outputs": [
        {
          "name": "stdout",
          "output_type": "stream",
          "text": [
            "INFO:tensorflow:Assets written to: C:\\Users\\Admin\\AppData\\Local\\Temp\\tmpkcp1r3sc\\assets\n"
          ]
        },
        {
          "name": "stderr",
          "output_type": "stream",
          "text": [
            "INFO:tensorflow:Assets written to: C:\\Users\\Admin\\AppData\\Local\\Temp\\tmpkcp1r3sc\\assets\n"
          ]
        },
        {
          "data": {
            "text/plain": [
              "6640"
            ]
          },
          "execution_count": 77,
          "metadata": {},
          "output_type": "execute_result"
        }
      ],
      "source": [
        "# Transform model (quantization)\n",
        "\n",
        "converter = tf.lite.TFLiteConverter.from_keras_model(model)\n",
        "converter.optimizations = [tf.lite.Optimize.DEFAULT]\n",
        "tflite_quantized_model = converter.convert()\n",
        "\n",
        "open(tflite_save_path, 'wb').write(tflite_quantized_model)"
      ]
    },
    {
      "cell_type": "markdown",
      "metadata": {
        "id": "CHBPBXdx9hE6"
      },
      "source": [
        "# Inference test"
      ]
    },
    {
      "cell_type": "code",
      "execution_count": 78,
      "metadata": {
        "id": "mGAzLocO9hE7"
      },
      "outputs": [],
      "source": [
        "interpreter = tf.lite.Interpreter(model_path=tflite_save_path)\n",
        "interpreter.allocate_tensors()"
      ]
    },
    {
      "cell_type": "code",
      "execution_count": 79,
      "metadata": {
        "id": "oQuDK8YS9hE7"
      },
      "outputs": [],
      "source": [
        "# Get I / O tensor\n",
        "input_details = interpreter.get_input_details()\n",
        "output_details = interpreter.get_output_details()"
      ]
    },
    {
      "cell_type": "code",
      "execution_count": 80,
      "metadata": {
        "id": "2_ixAf_l9hE7"
      },
      "outputs": [],
      "source": [
        "interpreter.set_tensor(input_details[0]['index'], np.array([X_test[0]]))"
      ]
    },
    {
      "cell_type": "code",
      "execution_count": 81,
      "metadata": {
        "colab": {
          "base_uri": "https://localhost:8080/"
        },
        "id": "s4FoAnuc9hE7",
        "outputId": "91f18257-8d8b-4ef3-c558-e9b5f94fabbf",
        "scrolled": true
      },
      "outputs": [
        {
          "name": "stdout",
          "output_type": "stream",
          "text": [
            "CPU times: total: 0 ns\n",
            "Wall time: 0 ns\n"
          ]
        }
      ],
      "source": [
        "%%time\n",
        "# Inference implementation\n",
        "interpreter.invoke()\n",
        "tflite_results = interpreter.get_tensor(output_details[0]['index'])"
      ]
    },
    {
      "cell_type": "code",
      "execution_count": 82,
      "metadata": {
        "colab": {
          "base_uri": "https://localhost:8080/"
        },
        "id": "vONjp19J9hE8",
        "outputId": "77205e24-fd00-42c4-f7b6-e06e527c2cba"
      },
      "outputs": [
        {
          "name": "stdout",
          "output_type": "stream",
          "text": [
            "[9.6316777e-02 5.6944227e-01 3.3423632e-01 1.6378786e-07 4.5662132e-06]\n",
            "1\n"
          ]
        }
      ],
      "source": [
        "print(np.squeeze(tflite_results))\n",
        "print(np.argmax(np.squeeze(tflite_results)))"
      ]
    }
  ],
  "metadata": {
    "accelerator": "GPU",
    "colab": {
      "collapsed_sections": [],
      "name": "keypoint_classification_EN.ipynb",
      "provenance": [],
      "toc_visible": true
    },
    "kernelspec": {
      "display_name": "Python 3",
      "language": "python",
      "name": "python3"
    },
    "language_info": {
      "codemirror_mode": {
        "name": "ipython",
        "version": 3
      },
      "file_extension": ".py",
      "mimetype": "text/x-python",
      "name": "python",
      "nbconvert_exporter": "python",
      "pygments_lexer": "ipython3",
      "version": "3.8.19"
    }
  },
  "nbformat": 4,
  "nbformat_minor": 0
}
